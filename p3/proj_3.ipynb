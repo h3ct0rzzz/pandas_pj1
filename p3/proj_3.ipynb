{
 "cells": [
  {
   "cell_type": "markdown",
   "id": "ded79d20-db77-4b06-b396-ac781ad0daf9",
   "metadata": {},
   "source": [
    "Данные имеют следующую структуру:\n",
    "\n",
    "* записываются для каждого пользователя, совершившего покупки, каждый день\n",
    "* для каждой даты есть своя папка, внутри неё – папки для каждого пользователя\n",
    "* внутри каждой папки есть файл data.csv, где и хранятся данные\n",
    "\n",
    "Схематично выглядит так:\n",
    "```\n",
    "└── data\n",
    "   ├── 2020-12-30   \n",
    "   │  ├── FirstName_LastName1   \n",
    "   │  │   └── data.csv  \n",
    "   │  ├── FirstName_LastName2   \n",
    "   │  │   └── data.csv  \n",
    "   │  └── FirstName_LastName3   \n",
    "   │      └── data.csv   \n",
    "   └── 2020-12-31   \n",
    "      ├── FirstName_LastName1      \n",
    "      │   └── data.csv      \n",
    "      └── FirstName_LastName5      \n",
    "          └── data.csv\n",
    "```      \n",
    "Например, 30 декабря три покупателя сделали покупки, 31 – два \n",
    "(папки 2020-12-30 и 2020-12-31 соответственно). Поскольку клиент FirstName_LastName1 купил товары в оба дня, для него имеется папка в папке для каждой из дат. Для других клиентов – по одной.\n",
    "\n",
    "**Note: данные в задании покрывают другой временной период, имена тоже другие. Подробности, примеры и возможные подсказки можно найти в текстах следующих шагов.**\n",
    "\n",
    "---"
   ]
  },
  {
   "cell_type": "markdown",
   "id": "981568c7-4740-4859-a90a-f13ed68fc42e",
   "metadata": {},
   "source": [
    "**Соберите все данные из папки data в один датафрэйм, имеющий следующие столбцы: колонки из самих файлов (product_id, quantity), имя пользователя (name), и дату этих покупок (date), соответствует названию папки, где лежит папка с пользователем).**\n",
    "\n",
    "Пример итоговой таблицы:\n",
    "\n",
    "product_id | quantity  |  name      |       date\n",
    "-----------|-----------|------------|------------\n",
    "0   |    56     |     2     |    Anatoly_Karpov |  2020-12-30\n",
    "1   |    7     |      2    |     Anatoly_Karpov |  2020-12-30\n",
    "2   |    9     |      3     |    Anatoly_Karpov  | 2020-12-30\n",
    "\n",
    "Для объединения датафреймов, читаемых из файлов, можно использовать метод pd.concat(). Например:\n",
    "\n",
    "1. Имеются следующие данные:\n",
    "\n",
    "`df_1:`\n",
    "\n",
    "product_id | quantity  |  name        |       date\n",
    "---------|----------|-------------|---------------|\n",
    "0   |    56     |     2    |     Anatoly_Karpov   |  2020-12-30\n",
    "1    |   7      |     2      |   Anatoly_Karpov    | 2020-12-30\n",
    "2   |    9     |      3     |    Anatoly_Karpov    | 2020-12-30\n",
    "\n",
    "`df_2:`\n",
    "\n",
    "product_id | quantity  |  name        |       date\n",
    "----------|------------|-------------|-------------- \n",
    "0   |    4       |    2     |    Кatya_Skriptsova  | 2020-12-30\n",
    "1    |   71     |     1     |    Кatya_Skriptsova  | 2020-12-31\n",
    "\n",
    "**В качестве ответа укажите сумму по колонке quantity.**\n"
   ]
  },
  {
   "cell_type": "code",
   "execution_count": 1,
   "id": "4dc1289f-98b9-45fc-b932-68782517a595",
   "metadata": {},
   "outputs": [],
   "source": [
    "import pandas as pd\n",
    "import os\n",
    "\n",
    "import warnings\n",
    "warnings.filterwarnings(\"ignore\")"
   ]
  },
  {
   "cell_type": "code",
   "execution_count": 2,
   "id": "bd0dcd7e-d936-4c8c-8c1f-9649589c6dca",
   "metadata": {},
   "outputs": [
    {
     "data": {
      "text/html": [
       "<div>\n",
       "<style scoped>\n",
       "    .dataframe tbody tr th:only-of-type {\n",
       "        vertical-align: middle;\n",
       "    }\n",
       "\n",
       "    .dataframe tbody tr th {\n",
       "        vertical-align: top;\n",
       "    }\n",
       "\n",
       "    .dataframe thead th {\n",
       "        text-align: right;\n",
       "    }\n",
       "</style>\n",
       "<table border=\"1\" class=\"dataframe\">\n",
       "  <thead>\n",
       "    <tr style=\"text-align: right;\">\n",
       "      <th></th>\n",
       "      <th>product_id</th>\n",
       "      <th>quantity</th>\n",
       "      <th>name</th>\n",
       "      <th>date</th>\n",
       "    </tr>\n",
       "  </thead>\n",
       "  <tbody>\n",
       "    <tr>\n",
       "      <th>0</th>\n",
       "      <td>47</td>\n",
       "      <td>1</td>\n",
       "      <td>Alexey_Smirnov</td>\n",
       "      <td>2020-12-03</td>\n",
       "    </tr>\n",
       "    <tr>\n",
       "      <th>1</th>\n",
       "      <td>57</td>\n",
       "      <td>1</td>\n",
       "      <td>Alexey_Smirnov</td>\n",
       "      <td>2020-12-03</td>\n",
       "    </tr>\n",
       "    <tr>\n",
       "      <th>2</th>\n",
       "      <td>14</td>\n",
       "      <td>2</td>\n",
       "      <td>Alexey_Smirnov</td>\n",
       "      <td>2020-12-03</td>\n",
       "    </tr>\n",
       "    <tr>\n",
       "      <th>3</th>\n",
       "      <td>52</td>\n",
       "      <td>1</td>\n",
       "      <td>Alexey_Smirnov</td>\n",
       "      <td>2020-12-03</td>\n",
       "    </tr>\n",
       "    <tr>\n",
       "      <th>4</th>\n",
       "      <td>1</td>\n",
       "      <td>4</td>\n",
       "      <td>Alexey_Smirnov</td>\n",
       "      <td>2020-12-03</td>\n",
       "    </tr>\n",
       "  </tbody>\n",
       "</table>\n",
       "</div>"
      ],
      "text/plain": [
       "   product_id  quantity            name        date\n",
       "0          47         1  Alexey_Smirnov  2020-12-03\n",
       "1          57         1  Alexey_Smirnov  2020-12-03\n",
       "2          14         2  Alexey_Smirnov  2020-12-03\n",
       "3          52         1  Alexey_Smirnov  2020-12-03\n",
       "4           1         4  Alexey_Smirnov  2020-12-03"
      ]
     },
     "execution_count": 2,
     "metadata": {},
     "output_type": "execute_result"
    }
   ],
   "source": [
    "root_path = 'C:/Users/hectorzzz1/home/pandas_pj1/p3/data/'\n",
    "df_list = []\n",
    "\n",
    "for date in os.listdir(root_path):\n",
    "    for name in os.listdir(root_path + date):\n",
    "        if name.startswith('.'):\n",
    "            continue\n",
    "        file_path = f'{root_path}{date}/{name}/data.csv'\n",
    "        t_df = pd.read_csv(file_path, sep = ',', index_col = 0)\n",
    "        t_df['name'], t_df['date'] = name, date\n",
    "        df_list.append(t_df)\n",
    "df = pd.concat(df_list).reset_index().drop('index', 1)\n",
    "df.head()"
   ]
  },
  {
   "cell_type": "markdown",
   "id": "c1209396-1125-43ce-acb1-ae40183c8697",
   "metadata": {},
   "source": [
    "---\n",
    "\n",
    "**2. Выясните, какой пользователь купил больше всего товаров. Если их несколько, то перечислите имена через запятую с пробелом и в алфавитном порядке. Например:**\n",
    "\n",
    "Anatoly_Karpov, Nekto_Ktotovich, Lena_Uhanova, Ignat, Sasha_Tokarev"
   ]
  },
  {
   "cell_type": "code",
   "execution_count": 3,
   "id": "4dd91253-c0eb-4413-af0f-66644a2794a6",
   "metadata": {},
   "outputs": [
    {
     "data": {
      "text/plain": [
       "52"
      ]
     },
     "execution_count": 3,
     "metadata": {},
     "output_type": "execute_result"
    }
   ],
   "source": [
    "quantity_bought = df.groupby('name')['quantity'].sum()\n",
    "max_quantity = quantity_bought.max()\n",
    "max_quantity"
   ]
  },
  {
   "cell_type": "code",
   "execution_count": 4,
   "id": "2ce8e8e9-da64-4768-81dd-2a622d2ab4ab",
   "metadata": {},
   "outputs": [
    {
     "data": {
      "text/plain": [
       "name\n",
       "Alexey_Smirnov    52\n",
       "Petr_Smirnov      52\n",
       "Name: quantity, dtype: int64"
      ]
     },
     "execution_count": 4,
     "metadata": {},
     "output_type": "execute_result"
    }
   ],
   "source": [
    "quantity_bought.loc[quantity_bought == max_quantity]"
   ]
  },
  {
   "cell_type": "markdown",
   "id": "47d23fb2-a0be-4b81-ad98-1b3a9a5f66a9",
   "metadata": {},
   "source": [
    "**Ответ: Alexey_Smirnov, Petr_Smirnov**\n",
    "\n",
    "---"
   ]
  },
  {
   "cell_type": "markdown",
   "id": "915b2a50-104e-486a-a5a3-a3fe911dfc08",
   "metadata": {},
   "source": [
    "**Найдите топ-10 товаров по числу проданных единиц за всё время и постройте барплот (столбчатую диаграмму, sns.barplot), где:**\n",
    "\n",
    "* по оси x – идентификаторы товаров (product_id) \n",
    "* по оси y – суммарное число их покупок (сколько товаров с таким product_id было продано)\n",
    "\n",
    "**Для практики попробуйте изменить параметры графика: цвет (color), прозрачность (alpha), сортировку значений по оси х (order).** \n",
    "\n",
    "**В качестве ответа укажите, сколько было продано единиц товара с product_id равным 56.**"
   ]
  },
  {
   "cell_type": "code",
   "execution_count": 5,
   "id": "7c4da367-2f9c-48f4-8124-fa74e1119a5f",
   "metadata": {},
   "outputs": [],
   "source": [
    "import seaborn as sns\n",
    "import matplotlib.pyplot as plt"
   ]
  },
  {
   "cell_type": "code",
   "execution_count": 6,
   "id": "70b74c97-cdca-4457-abc1-923f381b2b86",
   "metadata": {},
   "outputs": [],
   "source": [
    "product_sold = df.groupby('product_id', as_index=False).quantity.sum()"
   ]
  },
  {
   "cell_type": "code",
   "execution_count": 7,
   "id": "700054ab-802a-48c1-afb7-a5f0936cdb20",
   "metadata": {},
   "outputs": [
    {
     "data": {
      "text/html": [
       "<div>\n",
       "<style scoped>\n",
       "    .dataframe tbody tr th:only-of-type {\n",
       "        vertical-align: middle;\n",
       "    }\n",
       "\n",
       "    .dataframe tbody tr th {\n",
       "        vertical-align: top;\n",
       "    }\n",
       "\n",
       "    .dataframe thead th {\n",
       "        text-align: right;\n",
       "    }\n",
       "</style>\n",
       "<table border=\"1\" class=\"dataframe\">\n",
       "  <thead>\n",
       "    <tr style=\"text-align: right;\">\n",
       "      <th></th>\n",
       "      <th>product_id</th>\n",
       "      <th>quantity</th>\n",
       "    </tr>\n",
       "  </thead>\n",
       "  <tbody>\n",
       "    <tr>\n",
       "      <th>49</th>\n",
       "      <td>71</td>\n",
       "      <td>3</td>\n",
       "    </tr>\n",
       "    <tr>\n",
       "      <th>67</th>\n",
       "      <td>95</td>\n",
       "      <td>3</td>\n",
       "    </tr>\n",
       "    <tr>\n",
       "      <th>51</th>\n",
       "      <td>74</td>\n",
       "      <td>15</td>\n",
       "    </tr>\n",
       "    <tr>\n",
       "      <th>24</th>\n",
       "      <td>29</td>\n",
       "      <td>5</td>\n",
       "    </tr>\n",
       "    <tr>\n",
       "      <th>0</th>\n",
       "      <td>0</td>\n",
       "      <td>4</td>\n",
       "    </tr>\n",
       "    <tr>\n",
       "      <th>31</th>\n",
       "      <td>40</td>\n",
       "      <td>3</td>\n",
       "    </tr>\n",
       "    <tr>\n",
       "      <th>34</th>\n",
       "      <td>44</td>\n",
       "      <td>5</td>\n",
       "    </tr>\n",
       "    <tr>\n",
       "      <th>30</th>\n",
       "      <td>39</td>\n",
       "      <td>2</td>\n",
       "    </tr>\n",
       "    <tr>\n",
       "      <th>70</th>\n",
       "      <td>99</td>\n",
       "      <td>8</td>\n",
       "    </tr>\n",
       "    <tr>\n",
       "      <th>33</th>\n",
       "      <td>42</td>\n",
       "      <td>3</td>\n",
       "    </tr>\n",
       "  </tbody>\n",
       "</table>\n",
       "</div>"
      ],
      "text/plain": [
       "    product_id  quantity\n",
       "49          71         3\n",
       "67          95         3\n",
       "51          74        15\n",
       "24          29         5\n",
       "0            0         4\n",
       "31          40         3\n",
       "34          44         5\n",
       "30          39         2\n",
       "70          99         8\n",
       "33          42         3"
      ]
     },
     "execution_count": 7,
     "metadata": {},
     "output_type": "execute_result"
    }
   ],
   "source": [
    "product_sold.sample(10)"
   ]
  },
  {
   "cell_type": "code",
   "execution_count": 8,
   "id": "a1b0c33e-2505-410a-a08a-7b2e15d3601a",
   "metadata": {},
   "outputs": [
    {
     "data": {
      "text/html": [
       "<div>\n",
       "<style scoped>\n",
       "    .dataframe tbody tr th:only-of-type {\n",
       "        vertical-align: middle;\n",
       "    }\n",
       "\n",
       "    .dataframe tbody tr th {\n",
       "        vertical-align: top;\n",
       "    }\n",
       "\n",
       "    .dataframe thead th {\n",
       "        text-align: right;\n",
       "    }\n",
       "</style>\n",
       "<table border=\"1\" class=\"dataframe\">\n",
       "  <thead>\n",
       "    <tr style=\"text-align: right;\">\n",
       "      <th></th>\n",
       "      <th>product_id</th>\n",
       "      <th>quantity</th>\n",
       "    </tr>\n",
       "  </thead>\n",
       "  <tbody>\n",
       "    <tr>\n",
       "      <th>22</th>\n",
       "      <td>27</td>\n",
       "      <td>20</td>\n",
       "    </tr>\n",
       "    <tr>\n",
       "      <th>42</th>\n",
       "      <td>56</td>\n",
       "      <td>18</td>\n",
       "    </tr>\n",
       "    <tr>\n",
       "      <th>21</th>\n",
       "      <td>24</td>\n",
       "      <td>15</td>\n",
       "    </tr>\n",
       "    <tr>\n",
       "      <th>51</th>\n",
       "      <td>74</td>\n",
       "      <td>15</td>\n",
       "    </tr>\n",
       "    <tr>\n",
       "      <th>32</th>\n",
       "      <td>41</td>\n",
       "      <td>14</td>\n",
       "    </tr>\n",
       "    <tr>\n",
       "      <th>27</th>\n",
       "      <td>34</td>\n",
       "      <td>13</td>\n",
       "    </tr>\n",
       "    <tr>\n",
       "      <th>66</th>\n",
       "      <td>94</td>\n",
       "      <td>13</td>\n",
       "    </tr>\n",
       "    <tr>\n",
       "      <th>46</th>\n",
       "      <td>66</td>\n",
       "      <td>13</td>\n",
       "    </tr>\n",
       "    <tr>\n",
       "      <th>65</th>\n",
       "      <td>92</td>\n",
       "      <td>12</td>\n",
       "    </tr>\n",
       "    <tr>\n",
       "      <th>38</th>\n",
       "      <td>50</td>\n",
       "      <td>12</td>\n",
       "    </tr>\n",
       "  </tbody>\n",
       "</table>\n",
       "</div>"
      ],
      "text/plain": [
       "    product_id  quantity\n",
       "22          27        20\n",
       "42          56        18\n",
       "21          24        15\n",
       "51          74        15\n",
       "32          41        14\n",
       "27          34        13\n",
       "66          94        13\n",
       "46          66        13\n",
       "65          92        12\n",
       "38          50        12"
      ]
     },
     "execution_count": 8,
     "metadata": {},
     "output_type": "execute_result"
    }
   ],
   "source": [
    "product_sold = product_sold.sort_values('quantity', ascending=False).head(10)\n",
    "product_sold"
   ]
  },
  {
   "cell_type": "code",
   "execution_count": 9,
   "id": "33f6cfb8-819d-4141-9ec3-f9d80093b7c8",
   "metadata": {},
   "outputs": [
    {
     "data": {
      "image/png": "[encoded data removed]",
      "text/plain": [
       "<Figure size 1224x360 with 1 Axes>"
      ]
     },
     "metadata": {
      "needs_background": "light"
     },
     "output_type": "display_data"
    }
   ],
   "source": [
    "fig, ax = plt.subplots(figsize=(17,5))\n",
    "sns.barplot(data=product_sold, x='product_id', y='quantity',\n",
    "            order=product_sold.sort_values('quantity').product_id, ax=ax)\n",
    "ax.bar_label(ax.containers[0])\n",
    "ax.set_title('Топ-10 покупаемых товаров')\n",
    "sns.despine()"
   ]
  },
  {
   "cell_type": "code",
   "execution_count": 10,
   "id": "7d5691f9-d32f-48dc-9b54-e6be4bcdf82c",
   "metadata": {},
   "outputs": [
    {
     "data": {
      "text/html": [
       "<div>\n",
       "<style scoped>\n",
       "    .dataframe tbody tr th:only-of-type {\n",
       "        vertical-align: middle;\n",
       "    }\n",
       "\n",
       "    .dataframe tbody tr th {\n",
       "        vertical-align: top;\n",
       "    }\n",
       "\n",
       "    .dataframe thead th {\n",
       "        text-align: right;\n",
       "    }\n",
       "</style>\n",
       "<table border=\"1\" class=\"dataframe\">\n",
       "  <thead>\n",
       "    <tr style=\"text-align: right;\">\n",
       "      <th></th>\n",
       "      <th>product_id</th>\n",
       "      <th>quantity</th>\n",
       "    </tr>\n",
       "  </thead>\n",
       "  <tbody>\n",
       "    <tr>\n",
       "      <th>42</th>\n",
       "      <td>56</td>\n",
       "      <td>18</td>\n",
       "    </tr>\n",
       "  </tbody>\n",
       "</table>\n",
       "</div>"
      ],
      "text/plain": [
       "    product_id  quantity\n",
       "42          56        18"
      ]
     },
     "execution_count": 10,
     "metadata": {},
     "output_type": "execute_result"
    }
   ],
   "source": [
    "product_sold.loc[product_sold.product_id == 56]"
   ]
  },
  {
   "cell_type": "markdown",
   "id": "9b008017-efc9-4a8a-888c-ae2c15c055cc",
   "metadata": {},
   "source": [
    "**Ответ: 18**\n",
    "\n",
    "---"
   ]
  },
  {
   "cell_type": "markdown",
   "id": "d1b52b75-72d9-47a5-85bd-e0b0d50a7308",
   "metadata": {},
   "source": [
    "**Посмотрим на продажи по дням. Для визуализации снова используйте барплот, только теперь по оси x будут дни, по которым у нас есть данные (date).** "
   ]
  },
  {
   "cell_type": "code",
   "execution_count": 11,
   "id": "ea110468-b1c9-44fd-900e-542cbb2b4169",
   "metadata": {},
   "outputs": [],
   "source": [
    "quantity_by_date = df \\\n",
    "                   .groupby('date', as_index=False) \\\n",
    "                   .agg({'quantity': 'sum'}) \\\n",
    "                   .sort_values('quantity', ascending=False).head(10)"
   ]
  },
  {
   "cell_type": "code",
   "execution_count": 12,
   "id": "71c6182e-8a4e-40ff-b2dc-de03de47e43e",
   "metadata": {},
   "outputs": [
    {
     "data": {
      "image/png": "[encoded data removed]",
      "text/plain": [
       "<Figure size 1224x360 with 1 Axes>"
      ]
     },
     "metadata": {
      "needs_background": "light"
     },
     "output_type": "display_data"
    }
   ],
   "source": [
    "fig, ax = plt.subplots(figsize=(17,5))\n",
    "sns.barplot(data = quantity_by_date, x = 'date', y = 'quantity', order =  ['2020-12-03',\n",
    "                                                                           '2020-12-04', \n",
    "                                                                           '2020-12-05', \n",
    "                                                                           '2020-12-06', \n",
    "                                                                           '2020-12-07', \n",
    "                                                                           '2020-12-08', \n",
    "                                                                           '2020-12-09'])\n",
    "sns.set(rc = {'figure.figsize':(16,8)})\n",
    "sns.despine()"
   ]
  },
  {
   "cell_type": "markdown",
   "id": "644b4635-fa33-439a-b076-217d19902804",
   "metadata": {},
   "source": [
    "---\n",
    "**Сколько пользователей приобрели какой-либо товар повторно (более 1 раза)? Повтором будем считать покупку товара с одинаковым product_id, совершенную в разные дни.**\n",
    "\n",
    "**Например, пользователь Sasha Tsarev дважды приобрел товар 6. Поскольку покупка была совершена в один и тот же день, повторной в данном случае она считаться не будет. Katya Skriptsova также сделал две покупки товара 7, но в разные дни, поэтому этот случай засчитывается.**\n",
    "    \n",
    "\n",
    "product_id | quantity  | name      |        date\n",
    "-----------|-----------|-----------|-----------\n",
    "25    |    2     |   Katya Skriptsova | 2020-12-05\n",
    "54      |   1      |  Olya Silyutina   | 2020-12-05\n",
    "7      |    4    |    Katya Skriptsova | 2020-12-05\n",
    "6      |    4     |   Sasha Tsarev   |   2020-12-06\n",
    "6     |     1     |   Sasha Tsarev    |  2020-12-06\n",
    "7       |   5      |  Katya Skriptsova | 2020-12-06 \n"
   ]
  },
  {
   "cell_type": "code",
   "execution_count": 19,
   "id": "2431aa41-67b3-4803-835f-10999b54d325",
   "metadata": {},
   "outputs": [
    {
     "data": {
      "text/plain": [
       "name            product_id\n",
       "Anton_Ivanov    15            2\n",
       "Petr_Fedorov    94            2\n",
       "Alexey_Fedorov  13            1\n",
       "Petr_Smirnov    21            1\n",
       "Petr_Petrov     64            1\n",
       "                             ..\n",
       "Anton_Smirnov   28            1\n",
       "                33            1\n",
       "                34            1\n",
       "                40            1\n",
       "Vasiliy_Petrov  78            1\n",
       "Name: date, Length: 158, dtype: int64"
      ]
     },
     "execution_count": 19,
     "metadata": {},
     "output_type": "execute_result"
    }
   ],
   "source": [
    "s_product = df.groupby(['name', 'product_id']).date.nunique().sort_values(ascending=False)\n",
    "s_product"
   ]
  },
  {
   "cell_type": "code",
   "execution_count": null,
   "id": "3943fb49-a320-4270-9a2a-a22c0d30fd4a",
   "metadata": {},
   "outputs": [],
   "source": [
    "s_product.loc["
   ]
  }
 ],
 "metadata": {
  "kernelspec": {
   "display_name": "Python 3 (ipykernel)",
   "language": "python",
   "name": "python3"
  },
  "language_info": {
   "codemirror_mode": {
    "name": "ipython",
    "version": 3
   },
   "file_extension": ".py",
   "mimetype": "text/x-python",
   "name": "python",
   "nbconvert_exporter": "python",
   "pygments_lexer": "ipython3",
   "version": "3.9.12"
  }
 },
 "nbformat": 4,
 "nbformat_minor": 5
}
