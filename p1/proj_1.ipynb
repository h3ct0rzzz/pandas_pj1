{
 "cells": [
  {
   "cell_type": "markdown",
   "id": "d3287b44-013a-4a63-8e4c-9da33084f0eb",
   "metadata": {},
   "source": [
    "# Описание данных\n",
    "Имеются следующие переменные:\n",
    "\n",
    "* `Hotel` – тип отеля (City Hotel или Resort Hotel)  \n",
    "\n",
    "* `Is canceled` – бронирование было отменено (1) или нет (0); не отмененное считается успешным\n",
    "\n",
    "* `Lead time` – количество дней, прошедших между датой бронирования и датой прибытия  \n",
    "\n",
    "* `Arrival full date` – полная дата прибытия\n",
    "\n",
    "* `Arrival date year` – год прибытия  \n",
    "\n",
    "* `Arrival date month` – месяц прибытия  \n",
    "\n",
    "* `Arrival date week number` – номер недели прибытия\n",
    "\n",
    "* `Arrival date day of month` – день прибытия\n",
    "\n",
    "* `Stays in weekend nights` – количество выходных (суббота или воскресенье), которые гость забронировал для проживания в отеле\n",
    "\n",
    "* `Stays in week nights` – количество дней (с понедельника по пятницу), которые гость забронировал для проживания в отеле\n",
    "\n",
    "* `Stays total nights` – общее число забронированных ночей (сумма двух предыдущих колонок)\n",
    "\n",
    "* `Adults` – число взрослых\n",
    "\n",
    "* `Children` – число детей\n",
    "\n",
    "* `Babies` – число младенцев \n",
    "\n",
    "* `Meal` – выбранный тип питания\n",
    "\n",
    "* `Country` – страна происхождения клиента\n",
    "\n",
    "* `Reserved room type` – тип зарезервированного номера\n",
    "\n",
    "* `Assigned room type` – тип полученного номера (может отличаться от забронированного)\n",
    "\n",
    "* `Customer type` – тип бронирования\n",
    "\n",
    "* `Reservation status` – значение последнего статуса брони: Canceled - было отменено клиентом; Check-Out - клиент зарегистрировался, но уже покинул отель; No-Show - клиент не зарегистрировался и сообщил администрации отеля причину\n",
    "\n",
    "* `Reservation status date` – дата обновления статуса"
   ]
  },
  {
   "cell_type": "code",
   "execution_count": 1,
   "id": "d5daff23-c3b5-45b7-8bff-c6ab8e7585f5",
   "metadata": {},
   "outputs": [],
   "source": [
    "import pandas as pd"
   ]
  },
  {
   "cell_type": "code",
   "execution_count": 2,
   "id": "126c763a-c574-4c9b-9af2-716d33518baf",
   "metadata": {},
   "outputs": [
    {
     "data": {
      "text/html": [
       "<div>\n",
       "<style scoped>\n",
       "    .dataframe tbody tr th:only-of-type {\n",
       "        vertical-align: middle;\n",
       "    }\n",
       "\n",
       "    .dataframe tbody tr th {\n",
       "        vertical-align: top;\n",
       "    }\n",
       "\n",
       "    .dataframe thead th {\n",
       "        text-align: right;\n",
       "    }\n",
       "</style>\n",
       "<table border=\"1\" class=\"dataframe\">\n",
       "  <thead>\n",
       "    <tr style=\"text-align: right;\">\n",
       "      <th></th>\n",
       "      <th>Hotel</th>\n",
       "      <th>Is Canceled</th>\n",
       "      <th>Lead Time</th>\n",
       "      <th>arrival full date</th>\n",
       "      <th>Arrival Date Year</th>\n",
       "      <th>Arrival Date Month</th>\n",
       "      <th>Arrival Date Week Number</th>\n",
       "      <th>Arrival Date Day of Month</th>\n",
       "      <th>Stays in Weekend nights</th>\n",
       "      <th>Stays in week nights</th>\n",
       "      <th>...</th>\n",
       "      <th>Adults</th>\n",
       "      <th>Children</th>\n",
       "      <th>Babies</th>\n",
       "      <th>Meal</th>\n",
       "      <th>Country</th>\n",
       "      <th>Reserved Room Type</th>\n",
       "      <th>Assigned room type</th>\n",
       "      <th>customer type</th>\n",
       "      <th>Reservation Status</th>\n",
       "      <th>Reservation status_date</th>\n",
       "    </tr>\n",
       "  </thead>\n",
       "  <tbody>\n",
       "    <tr>\n",
       "      <th>0</th>\n",
       "      <td>Resort Hotel</td>\n",
       "      <td>0</td>\n",
       "      <td>342</td>\n",
       "      <td>2015-07-01</td>\n",
       "      <td>2015</td>\n",
       "      <td>July</td>\n",
       "      <td>27</td>\n",
       "      <td>1</td>\n",
       "      <td>0</td>\n",
       "      <td>0</td>\n",
       "      <td>...</td>\n",
       "      <td>2</td>\n",
       "      <td>0.0</td>\n",
       "      <td>0</td>\n",
       "      <td>BB</td>\n",
       "      <td>PRT</td>\n",
       "      <td>C</td>\n",
       "      <td>C</td>\n",
       "      <td>Transient</td>\n",
       "      <td>Check-Out</td>\n",
       "      <td>2015-07-01</td>\n",
       "    </tr>\n",
       "    <tr>\n",
       "      <th>1</th>\n",
       "      <td>Resort Hotel</td>\n",
       "      <td>0</td>\n",
       "      <td>737</td>\n",
       "      <td>2015-07-01</td>\n",
       "      <td>2015</td>\n",
       "      <td>July</td>\n",
       "      <td>27</td>\n",
       "      <td>1</td>\n",
       "      <td>0</td>\n",
       "      <td>0</td>\n",
       "      <td>...</td>\n",
       "      <td>2</td>\n",
       "      <td>0.0</td>\n",
       "      <td>0</td>\n",
       "      <td>BB</td>\n",
       "      <td>PRT</td>\n",
       "      <td>C</td>\n",
       "      <td>C</td>\n",
       "      <td>Transient</td>\n",
       "      <td>Check-Out</td>\n",
       "      <td>2015-07-01</td>\n",
       "    </tr>\n",
       "    <tr>\n",
       "      <th>2</th>\n",
       "      <td>Resort Hotel</td>\n",
       "      <td>0</td>\n",
       "      <td>7</td>\n",
       "      <td>2015-07-01</td>\n",
       "      <td>2015</td>\n",
       "      <td>July</td>\n",
       "      <td>27</td>\n",
       "      <td>1</td>\n",
       "      <td>0</td>\n",
       "      <td>1</td>\n",
       "      <td>...</td>\n",
       "      <td>1</td>\n",
       "      <td>0.0</td>\n",
       "      <td>0</td>\n",
       "      <td>BB</td>\n",
       "      <td>GBR</td>\n",
       "      <td>A</td>\n",
       "      <td>C</td>\n",
       "      <td>Transient</td>\n",
       "      <td>Check-Out</td>\n",
       "      <td>2015-07-02</td>\n",
       "    </tr>\n",
       "    <tr>\n",
       "      <th>3</th>\n",
       "      <td>Resort Hotel</td>\n",
       "      <td>0</td>\n",
       "      <td>13</td>\n",
       "      <td>2015-07-01</td>\n",
       "      <td>2015</td>\n",
       "      <td>July</td>\n",
       "      <td>27</td>\n",
       "      <td>1</td>\n",
       "      <td>0</td>\n",
       "      <td>1</td>\n",
       "      <td>...</td>\n",
       "      <td>1</td>\n",
       "      <td>0.0</td>\n",
       "      <td>0</td>\n",
       "      <td>BB</td>\n",
       "      <td>GBR</td>\n",
       "      <td>A</td>\n",
       "      <td>A</td>\n",
       "      <td>Transient</td>\n",
       "      <td>Check-Out</td>\n",
       "      <td>2015-07-02</td>\n",
       "    </tr>\n",
       "    <tr>\n",
       "      <th>4</th>\n",
       "      <td>Resort Hotel</td>\n",
       "      <td>0</td>\n",
       "      <td>14</td>\n",
       "      <td>2015-07-01</td>\n",
       "      <td>2015</td>\n",
       "      <td>July</td>\n",
       "      <td>27</td>\n",
       "      <td>1</td>\n",
       "      <td>0</td>\n",
       "      <td>2</td>\n",
       "      <td>...</td>\n",
       "      <td>2</td>\n",
       "      <td>0.0</td>\n",
       "      <td>0</td>\n",
       "      <td>BB</td>\n",
       "      <td>GBR</td>\n",
       "      <td>A</td>\n",
       "      <td>A</td>\n",
       "      <td>Transient</td>\n",
       "      <td>Check-Out</td>\n",
       "      <td>2015-07-03</td>\n",
       "    </tr>\n",
       "  </tbody>\n",
       "</table>\n",
       "<p>5 rows × 21 columns</p>\n",
       "</div>"
      ],
      "text/plain": [
       "          Hotel  Is Canceled  Lead Time arrival full date  Arrival Date Year  \\\n",
       "0  Resort Hotel            0        342        2015-07-01               2015   \n",
       "1  Resort Hotel            0        737        2015-07-01               2015   \n",
       "2  Resort Hotel            0          7        2015-07-01               2015   \n",
       "3  Resort Hotel            0         13        2015-07-01               2015   \n",
       "4  Resort Hotel            0         14        2015-07-01               2015   \n",
       "\n",
       "  Arrival Date Month  Arrival Date Week Number  Arrival Date Day of Month  \\\n",
       "0               July                        27                          1   \n",
       "1               July                        27                          1   \n",
       "2               July                        27                          1   \n",
       "3               July                        27                          1   \n",
       "4               July                        27                          1   \n",
       "\n",
       "   Stays in Weekend nights  Stays in week nights  ...  Adults  Children  \\\n",
       "0                        0                     0  ...       2       0.0   \n",
       "1                        0                     0  ...       2       0.0   \n",
       "2                        0                     1  ...       1       0.0   \n",
       "3                        0                     1  ...       1       0.0   \n",
       "4                        0                     2  ...       2       0.0   \n",
       "\n",
       "   Babies  Meal Country Reserved Room Type Assigned room type customer type  \\\n",
       "0       0    BB     PRT                  C                  C     Transient   \n",
       "1       0    BB     PRT                  C                  C     Transient   \n",
       "2       0    BB     GBR                  A                  C     Transient   \n",
       "3       0    BB     GBR                  A                  A     Transient   \n",
       "4       0    BB     GBR                  A                  A     Transient   \n",
       "\n",
       "  Reservation Status Reservation status_date  \n",
       "0          Check-Out              2015-07-01  \n",
       "1          Check-Out              2015-07-01  \n",
       "2          Check-Out              2015-07-02  \n",
       "3          Check-Out              2015-07-02  \n",
       "4          Check-Out              2015-07-03  \n",
       "\n",
       "[5 rows x 21 columns]"
      ]
     },
     "execution_count": 2,
     "metadata": {},
     "output_type": "execute_result"
    }
   ],
   "source": [
    "df = pd.read_csv('2_bookings.csv', delimiter=';')\n",
    "df.head(5)"
   ]
  },
  {
   "cell_type": "code",
   "execution_count": 3,
   "id": "593cd33f-3bc2-4a3e-910e-04faeaa5d879",
   "metadata": {},
   "outputs": [
    {
     "data": {
      "text/plain": [
       "(119390, 21)"
      ]
     },
     "execution_count": 3,
     "metadata": {},
     "output_type": "execute_result"
    }
   ],
   "source": [
    "df.shape"
   ]
  },
  {
   "cell_type": "code",
   "execution_count": 4,
   "id": "471af3ae-d0bc-481c-9434-5c2ac8a7804a",
   "metadata": {},
   "outputs": [
    {
     "data": {
      "text/plain": [
       "Hotel                         object\n",
       "Is Canceled                    int64\n",
       "Lead Time                      int64\n",
       "arrival full date             object\n",
       "Arrival Date Year              int64\n",
       "Arrival Date Month            object\n",
       "Arrival Date Week Number       int64\n",
       "Arrival Date Day of Month      int64\n",
       "Stays in Weekend nights        int64\n",
       "Stays in week nights           int64\n",
       "stays total nights             int64\n",
       "Adults                         int64\n",
       "Children                     float64\n",
       "Babies                         int64\n",
       "Meal                          object\n",
       "Country                       object\n",
       "Reserved Room Type            object\n",
       "Assigned room type            object\n",
       "customer type                 object\n",
       "Reservation Status            object\n",
       "Reservation status_date       object\n",
       "dtype: object"
      ]
     },
     "execution_count": 4,
     "metadata": {},
     "output_type": "execute_result"
    }
   ],
   "source": [
    "df.dtypes"
   ]
  },
  {
   "cell_type": "code",
   "execution_count": 5,
   "id": "edda6941-de98-4e54-b346-9b03e0bd7c06",
   "metadata": {},
   "outputs": [
    {
     "name": "stdout",
     "output_type": "stream",
     "text": [
      "<class 'pandas.core.frame.DataFrame'>\n",
      "RangeIndex: 119390 entries, 0 to 119389\n",
      "Data columns (total 21 columns):\n",
      " #   Column                     Non-Null Count   Dtype  \n",
      "---  ------                     --------------   -----  \n",
      " 0   Hotel                      119390 non-null  object \n",
      " 1   Is Canceled                119390 non-null  int64  \n",
      " 2   Lead Time                  119390 non-null  int64  \n",
      " 3   arrival full date          119390 non-null  object \n",
      " 4   Arrival Date Year          119390 non-null  int64  \n",
      " 5   Arrival Date Month         119390 non-null  object \n",
      " 6   Arrival Date Week Number   119390 non-null  int64  \n",
      " 7   Arrival Date Day of Month  119390 non-null  int64  \n",
      " 8   Stays in Weekend nights    119390 non-null  int64  \n",
      " 9   Stays in week nights       119390 non-null  int64  \n",
      " 10  stays total nights         119390 non-null  int64  \n",
      " 11  Adults                     119390 non-null  int64  \n",
      " 12  Children                   119386 non-null  float64\n",
      " 13  Babies                     119390 non-null  int64  \n",
      " 14  Meal                       119390 non-null  object \n",
      " 15  Country                    118902 non-null  object \n",
      " 16  Reserved Room Type         119390 non-null  object \n",
      " 17  Assigned room type         119390 non-null  object \n",
      " 18  customer type              119390 non-null  object \n",
      " 19  Reservation Status         119390 non-null  object \n",
      " 20  Reservation status_date    119390 non-null  object \n",
      "dtypes: float64(1), int64(10), object(10)\n",
      "memory usage: 19.1+ MB\n"
     ]
    }
   ],
   "source": [
    "df.info()"
   ]
  },
  {
   "cell_type": "code",
   "execution_count": 6,
   "id": "ef751361-d5a9-46f6-b57b-61e37ea0ab49",
   "metadata": {},
   "outputs": [
    {
     "data": {
      "text/html": [
       "<div>\n",
       "<style scoped>\n",
       "    .dataframe tbody tr th:only-of-type {\n",
       "        vertical-align: middle;\n",
       "    }\n",
       "\n",
       "    .dataframe tbody tr th {\n",
       "        vertical-align: top;\n",
       "    }\n",
       "\n",
       "    .dataframe thead th {\n",
       "        text-align: right;\n",
       "    }\n",
       "</style>\n",
       "<table border=\"1\" class=\"dataframe\">\n",
       "  <thead>\n",
       "    <tr style=\"text-align: right;\">\n",
       "      <th></th>\n",
       "      <th>hotel</th>\n",
       "      <th>is_canceled</th>\n",
       "      <th>lead_time</th>\n",
       "      <th>arrival_full_date</th>\n",
       "      <th>arrival_date_year</th>\n",
       "      <th>arrival_date_month</th>\n",
       "      <th>arrival_date_week_number</th>\n",
       "      <th>arrival_date_day_of_month</th>\n",
       "      <th>stays_in_weekend_nights</th>\n",
       "      <th>stays_in_week_nights</th>\n",
       "      <th>...</th>\n",
       "      <th>adults</th>\n",
       "      <th>children</th>\n",
       "      <th>babies</th>\n",
       "      <th>meal</th>\n",
       "      <th>country</th>\n",
       "      <th>reserved_room_type</th>\n",
       "      <th>assigned_room_type</th>\n",
       "      <th>customer_type</th>\n",
       "      <th>reservation_status</th>\n",
       "      <th>reservation_status_date</th>\n",
       "    </tr>\n",
       "  </thead>\n",
       "  <tbody>\n",
       "    <tr>\n",
       "      <th>0</th>\n",
       "      <td>Resort Hotel</td>\n",
       "      <td>0</td>\n",
       "      <td>342</td>\n",
       "      <td>2015-07-01</td>\n",
       "      <td>2015</td>\n",
       "      <td>July</td>\n",
       "      <td>27</td>\n",
       "      <td>1</td>\n",
       "      <td>0</td>\n",
       "      <td>0</td>\n",
       "      <td>...</td>\n",
       "      <td>2</td>\n",
       "      <td>0.0</td>\n",
       "      <td>0</td>\n",
       "      <td>BB</td>\n",
       "      <td>PRT</td>\n",
       "      <td>C</td>\n",
       "      <td>C</td>\n",
       "      <td>Transient</td>\n",
       "      <td>Check-Out</td>\n",
       "      <td>2015-07-01</td>\n",
       "    </tr>\n",
       "    <tr>\n",
       "      <th>1</th>\n",
       "      <td>Resort Hotel</td>\n",
       "      <td>0</td>\n",
       "      <td>737</td>\n",
       "      <td>2015-07-01</td>\n",
       "      <td>2015</td>\n",
       "      <td>July</td>\n",
       "      <td>27</td>\n",
       "      <td>1</td>\n",
       "      <td>0</td>\n",
       "      <td>0</td>\n",
       "      <td>...</td>\n",
       "      <td>2</td>\n",
       "      <td>0.0</td>\n",
       "      <td>0</td>\n",
       "      <td>BB</td>\n",
       "      <td>PRT</td>\n",
       "      <td>C</td>\n",
       "      <td>C</td>\n",
       "      <td>Transient</td>\n",
       "      <td>Check-Out</td>\n",
       "      <td>2015-07-01</td>\n",
       "    </tr>\n",
       "    <tr>\n",
       "      <th>2</th>\n",
       "      <td>Resort Hotel</td>\n",
       "      <td>0</td>\n",
       "      <td>7</td>\n",
       "      <td>2015-07-01</td>\n",
       "      <td>2015</td>\n",
       "      <td>July</td>\n",
       "      <td>27</td>\n",
       "      <td>1</td>\n",
       "      <td>0</td>\n",
       "      <td>1</td>\n",
       "      <td>...</td>\n",
       "      <td>1</td>\n",
       "      <td>0.0</td>\n",
       "      <td>0</td>\n",
       "      <td>BB</td>\n",
       "      <td>GBR</td>\n",
       "      <td>A</td>\n",
       "      <td>C</td>\n",
       "      <td>Transient</td>\n",
       "      <td>Check-Out</td>\n",
       "      <td>2015-07-02</td>\n",
       "    </tr>\n",
       "    <tr>\n",
       "      <th>3</th>\n",
       "      <td>Resort Hotel</td>\n",
       "      <td>0</td>\n",
       "      <td>13</td>\n",
       "      <td>2015-07-01</td>\n",
       "      <td>2015</td>\n",
       "      <td>July</td>\n",
       "      <td>27</td>\n",
       "      <td>1</td>\n",
       "      <td>0</td>\n",
       "      <td>1</td>\n",
       "      <td>...</td>\n",
       "      <td>1</td>\n",
       "      <td>0.0</td>\n",
       "      <td>0</td>\n",
       "      <td>BB</td>\n",
       "      <td>GBR</td>\n",
       "      <td>A</td>\n",
       "      <td>A</td>\n",
       "      <td>Transient</td>\n",
       "      <td>Check-Out</td>\n",
       "      <td>2015-07-02</td>\n",
       "    </tr>\n",
       "    <tr>\n",
       "      <th>4</th>\n",
       "      <td>Resort Hotel</td>\n",
       "      <td>0</td>\n",
       "      <td>14</td>\n",
       "      <td>2015-07-01</td>\n",
       "      <td>2015</td>\n",
       "      <td>July</td>\n",
       "      <td>27</td>\n",
       "      <td>1</td>\n",
       "      <td>0</td>\n",
       "      <td>2</td>\n",
       "      <td>...</td>\n",
       "      <td>2</td>\n",
       "      <td>0.0</td>\n",
       "      <td>0</td>\n",
       "      <td>BB</td>\n",
       "      <td>GBR</td>\n",
       "      <td>A</td>\n",
       "      <td>A</td>\n",
       "      <td>Transient</td>\n",
       "      <td>Check-Out</td>\n",
       "      <td>2015-07-03</td>\n",
       "    </tr>\n",
       "  </tbody>\n",
       "</table>\n",
       "<p>5 rows × 21 columns</p>\n",
       "</div>"
      ],
      "text/plain": [
       "          hotel  is_canceled  lead_time arrival_full_date  arrival_date_year  \\\n",
       "0  Resort Hotel            0        342        2015-07-01               2015   \n",
       "1  Resort Hotel            0        737        2015-07-01               2015   \n",
       "2  Resort Hotel            0          7        2015-07-01               2015   \n",
       "3  Resort Hotel            0         13        2015-07-01               2015   \n",
       "4  Resort Hotel            0         14        2015-07-01               2015   \n",
       "\n",
       "  arrival_date_month  arrival_date_week_number  arrival_date_day_of_month  \\\n",
       "0               July                        27                          1   \n",
       "1               July                        27                          1   \n",
       "2               July                        27                          1   \n",
       "3               July                        27                          1   \n",
       "4               July                        27                          1   \n",
       "\n",
       "   stays_in_weekend_nights  stays_in_week_nights  ...  adults  children  \\\n",
       "0                        0                     0  ...       2       0.0   \n",
       "1                        0                     0  ...       2       0.0   \n",
       "2                        0                     1  ...       1       0.0   \n",
       "3                        0                     1  ...       1       0.0   \n",
       "4                        0                     2  ...       2       0.0   \n",
       "\n",
       "   babies  meal country reserved_room_type assigned_room_type customer_type  \\\n",
       "0       0    BB     PRT                  C                  C     Transient   \n",
       "1       0    BB     PRT                  C                  C     Transient   \n",
       "2       0    BB     GBR                  A                  C     Transient   \n",
       "3       0    BB     GBR                  A                  A     Transient   \n",
       "4       0    BB     GBR                  A                  A     Transient   \n",
       "\n",
       "  reservation_status reservation_status_date  \n",
       "0          Check-Out              2015-07-01  \n",
       "1          Check-Out              2015-07-01  \n",
       "2          Check-Out              2015-07-02  \n",
       "3          Check-Out              2015-07-02  \n",
       "4          Check-Out              2015-07-03  \n",
       "\n",
       "[5 rows x 21 columns]"
      ]
     },
     "execution_count": 6,
     "metadata": {},
     "output_type": "execute_result"
    }
   ],
   "source": [
    "df = df.rename(columns=lambda col: col.replace(' ', '_').lower())\n",
    "df.head()"
   ]
  },
  {
   "cell_type": "markdown",
   "id": "d88f7859-2160-4721-9799-8a4867604d7d",
   "metadata": {},
   "source": [
    "---"
   ]
  },
  {
   "cell_type": "markdown",
   "id": "b0e85330-680a-44e0-a5c3-e9a05a98866d",
   "metadata": {},
   "source": [
    "**Пользователи из каких стран совершили наибольшее число успешных бронирований? Бронирование считается успешным, если в дальнейшем не было отменено (переменная is_canceled).**"
   ]
  },
  {
   "cell_type": "code",
   "execution_count": 7,
   "id": "90b4eab4-d2dc-43a9-b236-49ea770e17db",
   "metadata": {},
   "outputs": [
    {
     "data": {
      "text/html": [
       "<div>\n",
       "<style scoped>\n",
       "    .dataframe tbody tr th:only-of-type {\n",
       "        vertical-align: middle;\n",
       "    }\n",
       "\n",
       "    .dataframe tbody tr th {\n",
       "        vertical-align: top;\n",
       "    }\n",
       "\n",
       "    .dataframe thead th {\n",
       "        text-align: right;\n",
       "    }\n",
       "</style>\n",
       "<table border=\"1\" class=\"dataframe\">\n",
       "  <thead>\n",
       "    <tr style=\"text-align: right;\">\n",
       "      <th></th>\n",
       "      <th>country</th>\n",
       "      <th>is_canceled</th>\n",
       "    </tr>\n",
       "  </thead>\n",
       "  <tbody>\n",
       "    <tr>\n",
       "      <th>135</th>\n",
       "      <td>PRT</td>\n",
       "      <td>27519</td>\n",
       "    </tr>\n",
       "    <tr>\n",
       "      <th>59</th>\n",
       "      <td>GBR</td>\n",
       "      <td>2453</td>\n",
       "    </tr>\n",
       "    <tr>\n",
       "      <th>51</th>\n",
       "      <td>ESP</td>\n",
       "      <td>2177</td>\n",
       "    </tr>\n",
       "    <tr>\n",
       "      <th>56</th>\n",
       "      <td>FRA</td>\n",
       "      <td>1934</td>\n",
       "    </tr>\n",
       "    <tr>\n",
       "      <th>81</th>\n",
       "      <td>ITA</td>\n",
       "      <td>1333</td>\n",
       "    </tr>\n",
       "  </tbody>\n",
       "</table>\n",
       "</div>"
      ],
      "text/plain": [
       "    country  is_canceled\n",
       "135     PRT        27519\n",
       "59      GBR         2453\n",
       "51      ESP         2177\n",
       "56      FRA         1934\n",
       "81      ITA         1333"
      ]
     },
     "execution_count": 7,
     "metadata": {},
     "output_type": "execute_result"
    }
   ],
   "source": [
    "top_countries = df \\\n",
    "    .groupby(['country'], as_index=False) \\\n",
    "    .aggregate({'is_canceled': 'sum'}) \\\n",
    "    .sort_values('is_canceled', ascending=False) \\\n",
    "    .head(5)\n",
    "\n",
    "top_countries"
   ]
  },
  {
   "cell_type": "markdown",
   "id": "423a8b2c-df89-45ad-8d92-8216aa84ba4c",
   "metadata": {},
   "source": [
    "Топ 5: \n",
    "* **ESP**\n",
    "* **GBR**\n",
    "* **PRT**\n",
    "* **ITA**\n",
    "* **FRA**\n",
    "\n",
    "---"
   ]
  },
  {
   "cell_type": "markdown",
   "id": "62e4b742-58c8-4145-88fc-6078cb5856b0",
   "metadata": {},
   "source": [
    "**На сколько ночей (stays_total_nights)  в среднем бронируют отели типа City Hotel? Resort Hotel?**"
   ]
  },
  {
   "cell_type": "code",
   "execution_count": 8,
   "id": "1ebde9ba-ffd5-46cd-89b8-86311526ac7f",
   "metadata": {},
   "outputs": [
    {
     "data": {
      "text/html": [
       "<div>\n",
       "<style scoped>\n",
       "    .dataframe tbody tr th:only-of-type {\n",
       "        vertical-align: middle;\n",
       "    }\n",
       "\n",
       "    .dataframe tbody tr th {\n",
       "        vertical-align: top;\n",
       "    }\n",
       "\n",
       "    .dataframe thead th {\n",
       "        text-align: right;\n",
       "    }\n",
       "</style>\n",
       "<table border=\"1\" class=\"dataframe\">\n",
       "  <thead>\n",
       "    <tr style=\"text-align: right;\">\n",
       "      <th></th>\n",
       "      <th>hotel</th>\n",
       "      <th>stays_total_nights</th>\n",
       "    </tr>\n",
       "  </thead>\n",
       "  <tbody>\n",
       "    <tr>\n",
       "      <th>1</th>\n",
       "      <td>Resort Hotel</td>\n",
       "      <td>4.32</td>\n",
       "    </tr>\n",
       "    <tr>\n",
       "      <th>0</th>\n",
       "      <td>City Hotel</td>\n",
       "      <td>2.98</td>\n",
       "    </tr>\n",
       "  </tbody>\n",
       "</table>\n",
       "</div>"
      ],
      "text/plain": [
       "          hotel  stays_total_nights\n",
       "1  Resort Hotel                4.32\n",
       "0    City Hotel                2.98"
      ]
     },
     "execution_count": 8,
     "metadata": {},
     "output_type": "execute_result"
    }
   ],
   "source": [
    "mean_night = df \\\n",
    "    .groupby(['hotel'], as_index=False) \\\n",
    "    .aggregate({'stays_total_nights': 'mean'}) \\\n",
    "    .sort_values('stays_total_nights', ascending=False) \\\n",
    "    .round(2)\n",
    "\n",
    "mean_night"
   ]
  },
  {
   "cell_type": "markdown",
   "id": "6558a72e-ddef-48ce-a2d9-5d853f37ebce",
   "metadata": {},
   "source": [
    "---"
   ]
  },
  {
   "cell_type": "markdown",
   "id": "290503ab-7050-41ce-903d-489f00136524",
   "metadata": {},
   "source": [
    "Тип номера, присвоенного клиенту (assigned_room_type), отличается от изначально забронированного (reserved_room_type). Такое может произойти, например, по причине овербукинга.**\n",
    "\n",
    "**Сколько подобных наблюдений встретилось в датасете?**\n",
    "\n",
    "*отмена бронирования также считается"
   ]
  },
  {
   "cell_type": "code",
   "execution_count": 9,
   "id": "1d99aaa1-2089-4748-87c2-342984f96dc5",
   "metadata": {},
   "outputs": [
    {
     "name": "stdout",
     "output_type": "stream",
     "text": [
      "Ответ:  14917\n"
     ]
    }
   ],
   "source": [
    "wrong_types_of_rooms = df \\\n",
    "    .query('reserved_room_type != assigned_room_type') \\\n",
    "    .shape \n",
    "\n",
    "print('Ответ: ', wrong_types_of_rooms[0])"
   ]
  },
  {
   "cell_type": "markdown",
   "id": "218916ae-1a33-4c81-880f-04a7f59e0560",
   "metadata": {},
   "source": [
    "---"
   ]
  },
  {
   "cell_type": "markdown",
   "id": "124c9485-ac2f-4d77-ae62-ba3f4ec10c44",
   "metadata": {},
   "source": [
    "Проанализируйте даты запланированного прибытия (arrival_date_year).**\n",
    "\n",
    "**На какой месяц чаще всего оформляли бронь в 2016 году? Изменился ли самый популярный месяц в 2017?**"
   ]
  },
  {
   "cell_type": "code",
   "execution_count": 10,
   "id": "1b1a02c7-1787-41ae-8763-802614071606",
   "metadata": {},
   "outputs": [
    {
     "data": {
      "text/plain": [
       "arrival_date_year\n",
       "2015    September\n",
       "2016      October\n",
       "2017          May\n",
       "Name: arrival_date_month, dtype: object"
      ]
     },
     "execution_count": 10,
     "metadata": {},
     "output_type": "execute_result"
    }
   ],
   "source": [
    "df.groupby('arrival_date_year').arrival_date_month.agg(pd.Series.mode)"
   ]
  },
  {
   "cell_type": "markdown",
   "id": "4e58d745-2fe7-46ca-a5f6-a2fb714671dc",
   "metadata": {},
   "source": [
    "**В 2016 чаще всего бронировали отель на октябрь.**\n",
    "**В 2017 чаще всего оформляли бронирование на май.**\n",
    "\n",
    "---"
   ]
  },
  {
   "cell_type": "markdown",
   "id": "7100db4f-cbef-4b62-842d-8aea2a1ffe02",
   "metadata": {},
   "source": [
    "**Сгруппируйте данные по годам, а затем проверьте, на какой месяц (arrival_date_month) бронирования отеля типа City Hotel отменялись чаще всего в 2015? 2016? 2017?**"
   ]
  },
  {
   "cell_type": "code",
   "execution_count": 11,
   "id": "95548cc3-59bb-4bdc-999e-f75f8711c063",
   "metadata": {},
   "outputs": [
    {
     "data": {
      "text/html": [
       "<div>\n",
       "<style scoped>\n",
       "    .dataframe tbody tr th:only-of-type {\n",
       "        vertical-align: middle;\n",
       "    }\n",
       "\n",
       "    .dataframe tbody tr th {\n",
       "        vertical-align: top;\n",
       "    }\n",
       "\n",
       "    .dataframe thead th {\n",
       "        text-align: right;\n",
       "    }\n",
       "</style>\n",
       "<table border=\"1\" class=\"dataframe\">\n",
       "  <thead>\n",
       "    <tr style=\"text-align: right;\">\n",
       "      <th></th>\n",
       "      <th></th>\n",
       "      <th>is_canceled</th>\n",
       "    </tr>\n",
       "    <tr>\n",
       "      <th>arrival_date_year</th>\n",
       "      <th>arrival_date_month</th>\n",
       "      <th></th>\n",
       "    </tr>\n",
       "  </thead>\n",
       "  <tbody>\n",
       "    <tr>\n",
       "      <th rowspan=\"6\" valign=\"top\">2015</th>\n",
       "      <th>August</th>\n",
       "      <td>1598</td>\n",
       "    </tr>\n",
       "    <tr>\n",
       "      <th>December</th>\n",
       "      <td>973</td>\n",
       "    </tr>\n",
       "    <tr>\n",
       "      <th>July</th>\n",
       "      <td>1259</td>\n",
       "    </tr>\n",
       "    <tr>\n",
       "      <th>November</th>\n",
       "      <td>486</td>\n",
       "    </tr>\n",
       "    <tr>\n",
       "      <th>October</th>\n",
       "      <td>1732</td>\n",
       "    </tr>\n",
       "    <tr>\n",
       "      <th>September</th>\n",
       "      <td>2094</td>\n",
       "    </tr>\n",
       "    <tr>\n",
       "      <th rowspan=\"12\" valign=\"top\">2016</th>\n",
       "      <th>April</th>\n",
       "      <td>2061</td>\n",
       "    </tr>\n",
       "    <tr>\n",
       "      <th>August</th>\n",
       "      <td>1825</td>\n",
       "    </tr>\n",
       "    <tr>\n",
       "      <th>December</th>\n",
       "      <td>1398</td>\n",
       "    </tr>\n",
       "    <tr>\n",
       "      <th>February</th>\n",
       "      <td>1337</td>\n",
       "    </tr>\n",
       "    <tr>\n",
       "      <th>January</th>\n",
       "      <td>557</td>\n",
       "    </tr>\n",
       "    <tr>\n",
       "      <th>July</th>\n",
       "      <td>1499</td>\n",
       "    </tr>\n",
       "    <tr>\n",
       "      <th>June</th>\n",
       "      <td>2096</td>\n",
       "    </tr>\n",
       "    <tr>\n",
       "      <th>March</th>\n",
       "      <td>1477</td>\n",
       "    </tr>\n",
       "    <tr>\n",
       "      <th>May</th>\n",
       "      <td>1915</td>\n",
       "    </tr>\n",
       "    <tr>\n",
       "      <th>November</th>\n",
       "      <td>1636</td>\n",
       "    </tr>\n",
       "    <tr>\n",
       "      <th>October</th>\n",
       "      <td>2514</td>\n",
       "    </tr>\n",
       "    <tr>\n",
       "      <th>September</th>\n",
       "      <td>2022</td>\n",
       "    </tr>\n",
       "    <tr>\n",
       "      <th rowspan=\"8\" valign=\"top\">2017</th>\n",
       "      <th>April</th>\n",
       "      <td>2463</td>\n",
       "    </tr>\n",
       "    <tr>\n",
       "      <th>August</th>\n",
       "      <td>1816</td>\n",
       "    </tr>\n",
       "    <tr>\n",
       "      <th>February</th>\n",
       "      <td>1359</td>\n",
       "    </tr>\n",
       "    <tr>\n",
       "      <th>January</th>\n",
       "      <td>1250</td>\n",
       "    </tr>\n",
       "    <tr>\n",
       "      <th>July</th>\n",
       "      <td>1984</td>\n",
       "    </tr>\n",
       "    <tr>\n",
       "      <th>June</th>\n",
       "      <td>2439</td>\n",
       "    </tr>\n",
       "    <tr>\n",
       "      <th>March</th>\n",
       "      <td>1672</td>\n",
       "    </tr>\n",
       "    <tr>\n",
       "      <th>May</th>\n",
       "      <td>2762</td>\n",
       "    </tr>\n",
       "  </tbody>\n",
       "</table>\n",
       "</div>"
      ],
      "text/plain": [
       "                                      is_canceled\n",
       "arrival_date_year arrival_date_month             \n",
       "2015              August                     1598\n",
       "                  December                    973\n",
       "                  July                       1259\n",
       "                  November                    486\n",
       "                  October                    1732\n",
       "                  September                  2094\n",
       "2016              April                      2061\n",
       "                  August                     1825\n",
       "                  December                   1398\n",
       "                  February                   1337\n",
       "                  January                     557\n",
       "                  July                       1499\n",
       "                  June                       2096\n",
       "                  March                      1477\n",
       "                  May                        1915\n",
       "                  November                   1636\n",
       "                  October                    2514\n",
       "                  September                  2022\n",
       "2017              April                      2463\n",
       "                  August                     1816\n",
       "                  February                   1359\n",
       "                  January                    1250\n",
       "                  July                       1984\n",
       "                  June                       2439\n",
       "                  March                      1672\n",
       "                  May                        2762"
      ]
     },
     "execution_count": 11,
     "metadata": {},
     "output_type": "execute_result"
    }
   ],
   "source": [
    "years = pd.DataFrame(df.groupby(['arrival_date_year', 'arrival_date_month']).is_canceled.sum())\n",
    "years"
   ]
  },
  {
   "cell_type": "code",
   "execution_count": 12,
   "id": "6997bad3-0296-4970-bf83-b7c5ec588767",
   "metadata": {},
   "outputs": [
    {
     "name": "stdout",
     "output_type": "stream",
     "text": [
      "2015 -> September\n",
      "2016 -> October\n",
      "2017 -> May\n"
     ]
    }
   ],
   "source": [
    "print('2015 ->', years.query('2015').idxmax(axis=0)[0])\n",
    "print('2016 ->', years.query('2016').idxmax(axis=0)[0])\n",
    "print('2017 ->', years.query('2017').idxmax(axis=0)[0])"
   ]
  },
  {
   "cell_type": "markdown",
   "id": "ea8375d9-b6a7-449d-b7b9-dc4f62af5a8d",
   "metadata": {},
   "source": [
    "---"
   ]
  },
  {
   "cell_type": "markdown",
   "id": "c6830272-e04f-4c21-9902-29707ecfcb1e",
   "metadata": {},
   "source": [
    "**Посмотрите на числовые характеристики трёх колонок: adults, children и babies. Какая из них имеет наибольшее среднее значение?**"
   ]
  },
  {
   "cell_type": "code",
   "execution_count": 13,
   "id": "6d9c8f95-5627-4c81-aaaf-f7db1a63d66a",
   "metadata": {},
   "outputs": [
    {
     "data": {
      "text/plain": [
       "adults      1.856403\n",
       "children    0.103890\n",
       "babies      0.007949\n",
       "dtype: float64"
      ]
     },
     "execution_count": 13,
     "metadata": {},
     "output_type": "execute_result"
    }
   ],
   "source": [
    "cols = df[['adults', 'children', 'babies']].mean()\n",
    "cols"
   ]
  },
  {
   "cell_type": "code",
   "execution_count": 14,
   "id": "cdff915c-ad7c-49a7-9563-50a5e07ed756",
   "metadata": {},
   "outputs": [
    {
     "name": "stdout",
     "output_type": "stream",
     "text": [
      "Ответ: adults\n"
     ]
    }
   ],
   "source": [
    "print('Ответ:', cols.agg(pd.Series.idxmax))"
   ]
  },
  {
   "cell_type": "markdown",
   "id": "a4d4041d-7dac-41c0-a3a0-2766719086fd",
   "metadata": {},
   "source": [
    "---"
   ]
  },
  {
   "cell_type": "markdown",
   "id": "a8eefd59-86db-4c8b-94ef-2227d0bb3330",
   "metadata": {},
   "source": [
    "**Создайте колонку total_kids, объединив столбцы children и babies. Для отелей какого типа среднее значение переменной оказалось наибольшим?**"
   ]
  },
  {
   "cell_type": "code",
   "execution_count": 15,
   "id": "5ae35a31-bf75-4a64-9ab8-db0afcac8f84",
   "metadata": {},
   "outputs": [
    {
     "data": {
      "text/html": [
       "<div>\n",
       "<style scoped>\n",
       "    .dataframe tbody tr th:only-of-type {\n",
       "        vertical-align: middle;\n",
       "    }\n",
       "\n",
       "    .dataframe tbody tr th {\n",
       "        vertical-align: top;\n",
       "    }\n",
       "\n",
       "    .dataframe thead th {\n",
       "        text-align: right;\n",
       "    }\n",
       "</style>\n",
       "<table border=\"1\" class=\"dataframe\">\n",
       "  <thead>\n",
       "    <tr style=\"text-align: right;\">\n",
       "      <th></th>\n",
       "      <th>hotel</th>\n",
       "      <th>total_kids</th>\n",
       "      <th>children</th>\n",
       "      <th>babies</th>\n",
       "    </tr>\n",
       "  </thead>\n",
       "  <tbody>\n",
       "    <tr>\n",
       "      <th>0</th>\n",
       "      <td>Resort Hotel</td>\n",
       "      <td>0.0</td>\n",
       "      <td>0.0</td>\n",
       "      <td>0</td>\n",
       "    </tr>\n",
       "    <tr>\n",
       "      <th>1</th>\n",
       "      <td>Resort Hotel</td>\n",
       "      <td>0.0</td>\n",
       "      <td>0.0</td>\n",
       "      <td>0</td>\n",
       "    </tr>\n",
       "    <tr>\n",
       "      <th>2</th>\n",
       "      <td>Resort Hotel</td>\n",
       "      <td>0.0</td>\n",
       "      <td>0.0</td>\n",
       "      <td>0</td>\n",
       "    </tr>\n",
       "    <tr>\n",
       "      <th>3</th>\n",
       "      <td>Resort Hotel</td>\n",
       "      <td>0.0</td>\n",
       "      <td>0.0</td>\n",
       "      <td>0</td>\n",
       "    </tr>\n",
       "    <tr>\n",
       "      <th>4</th>\n",
       "      <td>Resort Hotel</td>\n",
       "      <td>0.0</td>\n",
       "      <td>0.0</td>\n",
       "      <td>0</td>\n",
       "    </tr>\n",
       "    <tr>\n",
       "      <th>...</th>\n",
       "      <td>...</td>\n",
       "      <td>...</td>\n",
       "      <td>...</td>\n",
       "      <td>...</td>\n",
       "    </tr>\n",
       "    <tr>\n",
       "      <th>119385</th>\n",
       "      <td>City Hotel</td>\n",
       "      <td>0.0</td>\n",
       "      <td>0.0</td>\n",
       "      <td>0</td>\n",
       "    </tr>\n",
       "    <tr>\n",
       "      <th>119386</th>\n",
       "      <td>City Hotel</td>\n",
       "      <td>0.0</td>\n",
       "      <td>0.0</td>\n",
       "      <td>0</td>\n",
       "    </tr>\n",
       "    <tr>\n",
       "      <th>119387</th>\n",
       "      <td>City Hotel</td>\n",
       "      <td>0.0</td>\n",
       "      <td>0.0</td>\n",
       "      <td>0</td>\n",
       "    </tr>\n",
       "    <tr>\n",
       "      <th>119388</th>\n",
       "      <td>City Hotel</td>\n",
       "      <td>0.0</td>\n",
       "      <td>0.0</td>\n",
       "      <td>0</td>\n",
       "    </tr>\n",
       "    <tr>\n",
       "      <th>119389</th>\n",
       "      <td>City Hotel</td>\n",
       "      <td>0.0</td>\n",
       "      <td>0.0</td>\n",
       "      <td>0</td>\n",
       "    </tr>\n",
       "  </tbody>\n",
       "</table>\n",
       "<p>119390 rows × 4 columns</p>\n",
       "</div>"
      ],
      "text/plain": [
       "               hotel  total_kids  children  babies\n",
       "0       Resort Hotel         0.0       0.0       0\n",
       "1       Resort Hotel         0.0       0.0       0\n",
       "2       Resort Hotel         0.0       0.0       0\n",
       "3       Resort Hotel         0.0       0.0       0\n",
       "4       Resort Hotel         0.0       0.0       0\n",
       "...              ...         ...       ...     ...\n",
       "119385    City Hotel         0.0       0.0       0\n",
       "119386    City Hotel         0.0       0.0       0\n",
       "119387    City Hotel         0.0       0.0       0\n",
       "119388    City Hotel         0.0       0.0       0\n",
       "119389    City Hotel         0.0       0.0       0\n",
       "\n",
       "[119390 rows x 4 columns]"
      ]
     },
     "execution_count": 15,
     "metadata": {},
     "output_type": "execute_result"
    }
   ],
   "source": [
    "df['total_kids'] = df.children + df.babies\n",
    "df[['hotel', 'total_kids', 'children', 'babies']]"
   ]
  },
  {
   "cell_type": "code",
   "execution_count": 16,
   "id": "d1a03637-96b9-43ac-a6a4-d449a0d68cfc",
   "metadata": {},
   "outputs": [
    {
     "data": {
      "text/plain": [
       "hotel\n",
       "City Hotel      0.10\n",
       "Resort Hotel    0.14\n",
       "Name: total_kids, dtype: float64"
      ]
     },
     "execution_count": 16,
     "metadata": {},
     "output_type": "execute_result"
    }
   ],
   "source": [
    "df.groupby('hotel').total_kids.mean().round(2)"
   ]
  },
  {
   "cell_type": "code",
   "execution_count": 17,
   "id": "0211fb38-7811-46a7-95b5-b1dcfe7a3f21",
   "metadata": {},
   "outputs": [
    {
     "name": "stdout",
     "output_type": "stream",
     "text": [
      "Ответ: Resort Hotel\n"
     ]
    }
   ],
   "source": [
    "print('Ответ:', df.groupby('hotel').total_kids.mean().round(2).agg(pd.Series.idxmax))"
   ]
  },
  {
   "cell_type": "markdown",
   "id": "e9179c1e-bd41-431e-a174-cc250b221298",
   "metadata": {},
   "source": [
    "---"
   ]
  },
  {
   "cell_type": "markdown",
   "id": "16eee408-a17a-4943-871c-1f5f1ff2e975",
   "metadata": {},
   "source": [
    "**Не все бронирования завершились успешно (is_canceled), поэтому можно посчитать, сколько клиентов было потеряно в процессе. Иными словами, посчитать метрику под названием Churn Rate.**\n",
    "\n",
    "**Churn rate (отток, коэффициент оттока) – это процент подписчиков (например, на push-уведомления от сайта), которые отписались от канала коммуникации, отказались от услуг сервиса в течение определенного периода времени. Иными словами, представляет собой отношение количества ушедших пользователей к общему количеству пользователей, выраженное в процентах.**\n",
    "\n",
    "**В нашем случае Churn Rate - это процент клиентов, которые отменили бронирование. Давайте посмотрим, как эта метрика связана с наличием детей у клиентов!**\n",
    "\n",
    "**Создайте переменную has_kids, которая принимает значение True, если клиент при бронировании указал хотя бы одного ребенка (total_kids), в противном случае – False. Далее проверьте, среди какой группы пользователей показатель оттока выше.** \n",
    "\n",
    "**В качестве ответа укажите наибольший % оттока, округленный до 2 знаков после точки (то есть доля 0.24563 будет 24.56% и в ответ пойдёт 24.56)**"
   ]
  },
  {
   "cell_type": "code",
   "execution_count": 18,
   "id": "62dbf4b7-45c0-4ca4-b0c4-e68d80687261",
   "metadata": {},
   "outputs": [],
   "source": [
    "def has_kids(x):\n",
    "    if x >= 1:\n",
    "        return True\n",
    "    return False"
   ]
  },
  {
   "cell_type": "code",
   "execution_count": 19,
   "id": "9014ae5b-7ac9-48d6-bb6e-0c906f92d7a8",
   "metadata": {},
   "outputs": [],
   "source": [
    "df['has_kids'] = df.total_kids.apply(has_kids)"
   ]
  },
  {
   "cell_type": "code",
   "execution_count": 20,
   "id": "6af42af3-dd2d-4327-993d-ec19e35ddef9",
   "metadata": {},
   "outputs": [
    {
     "data": {
      "text/plain": [
       "False    110058\n",
       "True       9332\n",
       "Name: has_kids, dtype: int64"
      ]
     },
     "execution_count": 20,
     "metadata": {},
     "output_type": "execute_result"
    }
   ],
   "source": [
    "df['has_kids'].value_counts()"
   ]
  },
  {
   "cell_type": "code",
   "execution_count": 21,
   "id": "ddff2614-3615-4e14-aaa1-bef26dcbc683",
   "metadata": {},
   "outputs": [
    {
     "data": {
      "text/plain": [
       "has_kids  is_canceled\n",
       "False     0              62.778717\n",
       "          1              37.221283\n",
       "True      0              65.077154\n",
       "          1              34.922846\n",
       "dtype: float64"
      ]
     },
     "execution_count": 21,
     "metadata": {},
     "output_type": "execute_result"
    }
   ],
   "source": [
    "df[['has_kids', 'is_canceled']].value_counts() / df[['has_kids']].value_counts() * 100"
   ]
  },
  {
   "cell_type": "markdown",
   "id": "71fea60c-887a-4e85-9af5-8c3184ef76e4",
   "metadata": {},
   "source": [
    "Ответ:  `37.221283%`"
   ]
  }
 ],
 "metadata": {
  "kernelspec": {
   "display_name": "Python 3 (ipykernel)",
   "language": "python",
   "name": "python3"
  },
  "language_info": {
   "codemirror_mode": {
    "name": "ipython",
    "version": 3
   },
   "file_extension": ".py",
   "mimetype": "text/x-python",
   "name": "python",
   "nbconvert_exporter": "python",
   "pygments_lexer": "ipython3",
   "version": "3.9.12"
  }
 },
 "nbformat": 4,
 "nbformat_minor": 5
}
