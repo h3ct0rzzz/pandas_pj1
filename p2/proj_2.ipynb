{
 "cells": [
  {
   "cell_type": "markdown",
   "id": "aa5d065b-04cb-47cb-aa2c-48a55f4984c8",
   "metadata": {},
   "source": [
    "1. Импортируйте библиотеку pandas как pd. Загрузите два датасета user_data и logs. Проверьте размер таблицы, типы переменных, наличие пропущенных значений, описательную статистику.\n",
    "2. Какой клиент совершил больше всего успешных операций? (success == True)\n",
    "3. С какой платформы осуществляется наибольшее количество успешных операций?\n",
    "4. Какую платформу предпочитают премиумные клиенты?\n",
    "5. Визуализируйте распределение возраста клиентов в зависимости от типа клиента (премиум или нет)\n",
    "6. Постройте график распределения числа успешных операций\n",
    "7. Визуализируйте число успешных операций, сделанных на платформе computer, в зависимости от возраста, используя **sns.countplot** (x – возраст, y – число успешных операций). Клиенты какого возраста совершили наибольшее количество успешных действий?\n",
    "      \n",
    "## Описание данных\n",
    "**user_data:**\n",
    "\n",
    "* `client` – идентификатор пользователя\n",
    "\n",
    "* `premium` – является ли клиент премиум\n",
    "\n",
    "* `age` – возраст\n",
    "\n",
    "**logs:**\n",
    "\n",
    "* `client` – идентификатор пользователя\n",
    "\n",
    "* `success` – результат (успех - 1, нет - 0)\n",
    "\n",
    "* `platform` – платформа\n",
    "\n",
    "* `time` – время в формате Unix"
   ]
  },
  {
   "cell_type": "code",
   "execution_count": 3,
   "id": "35828605-9e15-472f-ba3a-947817b60cc8",
   "metadata": {},
   "outputs": [],
   "source": [
    "import pandas as pd"
   ]
  },
  {
   "cell_type": "code",
   "execution_count": 4,
   "id": "28269a57-22ff-4c10-9101-bffb4a231768",
   "metadata": {},
   "outputs": [],
   "source": [
    "user_data = pd.read_csv('3_user_data.csv')\n",
    "logs = pd.read_csv('3_logs.csv')"
   ]
  },
  {
   "cell_type": "code",
   "execution_count": 5,
   "id": "460b3d6b-4b67-4096-927a-96fb2fde4008",
   "metadata": {},
   "outputs": [
    {
     "data": {
      "text/html": [
       "<div>\n",
       "<style scoped>\n",
       "    .dataframe tbody tr th:only-of-type {\n",
       "        vertical-align: middle;\n",
       "    }\n",
       "\n",
       "    .dataframe tbody tr th {\n",
       "        vertical-align: top;\n",
       "    }\n",
       "\n",
       "    .dataframe thead th {\n",
       "        text-align: right;\n",
       "    }\n",
       "</style>\n",
       "<table border=\"1\" class=\"dataframe\">\n",
       "  <thead>\n",
       "    <tr style=\"text-align: right;\">\n",
       "      <th></th>\n",
       "      <th>client</th>\n",
       "      <th>premium</th>\n",
       "      <th>age</th>\n",
       "    </tr>\n",
       "  </thead>\n",
       "  <tbody>\n",
       "    <tr>\n",
       "      <th>0</th>\n",
       "      <td>46346</td>\n",
       "      <td>False</td>\n",
       "      <td>58</td>\n",
       "    </tr>\n",
       "    <tr>\n",
       "      <th>1</th>\n",
       "      <td>4391</td>\n",
       "      <td>False</td>\n",
       "      <td>55</td>\n",
       "    </tr>\n",
       "    <tr>\n",
       "      <th>2</th>\n",
       "      <td>27372</td>\n",
       "      <td>False</td>\n",
       "      <td>64</td>\n",
       "    </tr>\n",
       "    <tr>\n",
       "      <th>3</th>\n",
       "      <td>11989</td>\n",
       "      <td>False</td>\n",
       "      <td>44</td>\n",
       "    </tr>\n",
       "    <tr>\n",
       "      <th>4</th>\n",
       "      <td>60664</td>\n",
       "      <td>False</td>\n",
       "      <td>49</td>\n",
       "    </tr>\n",
       "  </tbody>\n",
       "</table>\n",
       "</div>"
      ],
      "text/plain": [
       "   client  premium  age\n",
       "0   46346    False   58\n",
       "1    4391    False   55\n",
       "2   27372    False   64\n",
       "3   11989    False   44\n",
       "4   60664    False   49"
      ]
     },
     "execution_count": 5,
     "metadata": {},
     "output_type": "execute_result"
    }
   ],
   "source": [
    "user_data.head()"
   ]
  },
  {
   "cell_type": "code",
   "execution_count": 6,
   "id": "1fd24ced-bd02-49b0-8607-fa8adb264ddd",
   "metadata": {},
   "outputs": [
    {
     "data": {
      "text/html": [
       "<div>\n",
       "<style scoped>\n",
       "    .dataframe tbody tr th:only-of-type {\n",
       "        vertical-align: middle;\n",
       "    }\n",
       "\n",
       "    .dataframe tbody tr th {\n",
       "        vertical-align: top;\n",
       "    }\n",
       "\n",
       "    .dataframe thead th {\n",
       "        text-align: right;\n",
       "    }\n",
       "</style>\n",
       "<table border=\"1\" class=\"dataframe\">\n",
       "  <thead>\n",
       "    <tr style=\"text-align: right;\">\n",
       "      <th></th>\n",
       "      <th>client</th>\n",
       "      <th>success</th>\n",
       "      <th>platform</th>\n",
       "      <th>time</th>\n",
       "    </tr>\n",
       "  </thead>\n",
       "  <tbody>\n",
       "    <tr>\n",
       "      <th>0</th>\n",
       "      <td>40177</td>\n",
       "      <td>True</td>\n",
       "      <td>phone</td>\n",
       "      <td>1585412212</td>\n",
       "    </tr>\n",
       "    <tr>\n",
       "      <th>1</th>\n",
       "      <td>61468</td>\n",
       "      <td>True</td>\n",
       "      <td>phone</td>\n",
       "      <td>1585425658</td>\n",
       "    </tr>\n",
       "    <tr>\n",
       "      <th>2</th>\n",
       "      <td>35604</td>\n",
       "      <td>False</td>\n",
       "      <td>phone</td>\n",
       "      <td>1585459894</td>\n",
       "    </tr>\n",
       "    <tr>\n",
       "      <th>3</th>\n",
       "      <td>9961</td>\n",
       "      <td>True</td>\n",
       "      <td>phone</td>\n",
       "      <td>1585400189</td>\n",
       "    </tr>\n",
       "    <tr>\n",
       "      <th>4</th>\n",
       "      <td>10931</td>\n",
       "      <td>True</td>\n",
       "      <td>computer</td>\n",
       "      <td>1585468629</td>\n",
       "    </tr>\n",
       "  </tbody>\n",
       "</table>\n",
       "</div>"
      ],
      "text/plain": [
       "   client  success  platform        time\n",
       "0   40177     True     phone  1585412212\n",
       "1   61468     True     phone  1585425658\n",
       "2   35604    False     phone  1585459894\n",
       "3    9961     True     phone  1585400189\n",
       "4   10931     True  computer  1585468629"
      ]
     },
     "execution_count": 6,
     "metadata": {},
     "output_type": "execute_result"
    }
   ],
   "source": [
    "logs.head()"
   ]
  },
  {
   "cell_type": "code",
   "execution_count": 7,
   "id": "ee90bf9f-1aa2-4e1d-9e68-bd8e50e903fe",
   "metadata": {},
   "outputs": [
    {
     "name": "stdout",
     "output_type": "stream",
     "text": [
      "<class 'pandas.core.frame.DataFrame'>\n",
      "RangeIndex: 2954 entries, 0 to 2953\n",
      "Data columns (total 3 columns):\n",
      " #   Column   Non-Null Count  Dtype\n",
      "---  ------   --------------  -----\n",
      " 0   client   2954 non-null   int64\n",
      " 1   premium  2954 non-null   bool \n",
      " 2   age      2954 non-null   int64\n",
      "dtypes: bool(1), int64(2)\n",
      "memory usage: 49.2 KB\n"
     ]
    }
   ],
   "source": [
    "user_data.info()"
   ]
  },
  {
   "cell_type": "code",
   "execution_count": 9,
   "id": "989e2e2f-9812-4afb-b07c-ecad95f5821a",
   "metadata": {},
   "outputs": [
    {
     "name": "stdout",
     "output_type": "stream",
     "text": [
      "<class 'pandas.core.frame.DataFrame'>\n",
      "RangeIndex: 4500 entries, 0 to 4499\n",
      "Data columns (total 4 columns):\n",
      " #   Column    Non-Null Count  Dtype \n",
      "---  ------    --------------  ----- \n",
      " 0   client    4500 non-null   int64 \n",
      " 1   success   4500 non-null   bool  \n",
      " 2   platform  4500 non-null   object\n",
      " 3   time      4500 non-null   int64 \n",
      "dtypes: bool(1), int64(2), object(1)\n",
      "memory usage: 110.0+ KB\n"
     ]
    }
   ],
   "source": [
    "logs.info()"
   ]
  },
  {
   "cell_type": "markdown",
   "id": "bbe43675-34d8-4e13-8899-41354a0b7390",
   "metadata": {},
   "source": [
    "---\n",
    "**Сколько уникальных значений принимает переменная platform?**"
   ]
  },
  {
   "cell_type": "code",
   "execution_count": 8,
   "id": "605f7995-ca97-48c7-bac1-a947d5bcaef8",
   "metadata": {},
   "outputs": [
    {
     "name": "stdout",
     "output_type": "stream",
     "text": [
      "Ответ:  3\n"
     ]
    }
   ],
   "source": [
    "print('Ответ: ', logs.platform.nunique())"
   ]
  },
  {
   "cell_type": "markdown",
   "id": "138cf299-781b-4ef8-a39b-e4f091a69805",
   "metadata": {},
   "source": [
    "---\n",
    "**Какой клиент совершил больше всего успешных операций?**\n",
    "\n",
    "**Если несколько пользователей совершили одинаковое число успешных действий, перечислите их идентификаторы (client) через запятую и пробел в порядке возрастания. \n",
    "Например:**\n",
    "\n",
    "12, 123, 456"
   ]
  },
  {
   "cell_type": "code",
   "execution_count": 25,
   "id": "0c4319b8-bfea-4c89-8200-79fc16ce12e4",
   "metadata": {},
   "outputs": [],
   "source": [
    "success_counts = logs \\\n",
    "                 .query('success == True') \\\n",
    "                 ['client'] \\\n",
    "                 .value_counts()"
   ]
  },
  {
   "cell_type": "code",
   "execution_count": 24,
   "id": "238a0ead-5e02-4e4f-bfd0-c7e9385d0519",
   "metadata": {},
   "outputs": [
    {
     "data": {
      "text/plain": [
       "41"
      ]
     },
     "execution_count": 24,
     "metadata": {},
     "output_type": "execute_result"
    }
   ],
   "source": [
    "max_num = success_counts.max()\n",
    "max_num"
   ]
  },
  {
   "cell_type": "code",
   "execution_count": 15,
   "id": "88d1326f-6b18-4f6f-8624-fb6d141c9fa5",
   "metadata": {},
   "outputs": [
    {
     "data": {
      "text/plain": [
       "28719    41\n",
       "52870    41\n",
       "61468    41\n",
       "61473    41\n",
       "12179    41\n",
       "82563    41\n",
       "36165    41\n",
       "92584    41\n",
       "78349    41\n",
       "Name: client, dtype: int64"
      ]
     },
     "execution_count": 15,
     "metadata": {},
     "output_type": "execute_result"
    }
   ],
   "source": [
    "max_success_users = success_counts.loc[success_counts == max_num]\n",
    "max_success_users"
   ]
  },
  {
   "cell_type": "code",
   "execution_count": 16,
   "id": "5fedc1e2-a2b6-4b2d-9576-efbc05649fdf",
   "metadata": {},
   "outputs": [
    {
     "data": {
      "text/plain": [
       "Int64Index([12179, 28719, 36165, 52870, 61468, 61473, 78349, 82563, 92584], dtype='int64')"
      ]
     },
     "execution_count": 16,
     "metadata": {},
     "output_type": "execute_result"
    }
   ],
   "source": [
    "max_success_users.index.sort_values()"
   ]
  },
  {
   "cell_type": "markdown",
   "id": "87fb08d7-b95e-4926-b39e-0753d2dc478a",
   "metadata": {},
   "source": [
    "**Ответ: 12179, 28719, 36165, 52870, 61468, 61473, 78349, 82563, 92584**\n",
    "\n",
    "---"
   ]
  },
  {
   "cell_type": "markdown",
   "id": "fed84d88-aa25-448c-b3b3-ce3cae9a5cca",
   "metadata": {},
   "source": [
    "**С какой платформы осуществляется наибольшее количество успешных операций?**"
   ]
  },
  {
   "cell_type": "code",
   "execution_count": 27,
   "id": "ea0e0972-7caf-4976-ab61-c65edc6e51c6",
   "metadata": {},
   "outputs": [
    {
     "data": {
      "text/plain": [
       "'phone'"
      ]
     },
     "execution_count": 27,
     "metadata": {},
     "output_type": "execute_result"
    }
   ],
   "source": [
    "logs.loc[logs.success == True].platform.value_counts().idxmax()"
   ]
  },
  {
   "cell_type": "markdown",
   "id": "8994d10d-f9ed-4d04-ae77-749b59c972ad",
   "metadata": {},
   "source": [
    "**Ответ: Phone.**\n",
    "\n",
    "---"
   ]
  },
  {
   "cell_type": "markdown",
   "id": "34e7dfbe-46a8-4ee8-b244-2713e43d706b",
   "metadata": {},
   "source": [
    "**Какая платформа наиболее популярна среди премиумных клиентов?**"
   ]
  },
  {
   "cell_type": "code",
   "execution_count": 18,
   "id": "5a34c49f-4e99-494f-aa87-f623625bba31",
   "metadata": {},
   "outputs": [
    {
     "data": {
      "text/html": [
       "<div>\n",
       "<style scoped>\n",
       "    .dataframe tbody tr th:only-of-type {\n",
       "        vertical-align: middle;\n",
       "    }\n",
       "\n",
       "    .dataframe tbody tr th {\n",
       "        vertical-align: top;\n",
       "    }\n",
       "\n",
       "    .dataframe thead th {\n",
       "        text-align: right;\n",
       "    }\n",
       "</style>\n",
       "<table border=\"1\" class=\"dataframe\">\n",
       "  <thead>\n",
       "    <tr style=\"text-align: right;\">\n",
       "      <th></th>\n",
       "      <th>client</th>\n",
       "      <th>success</th>\n",
       "      <th>platform</th>\n",
       "      <th>time</th>\n",
       "    </tr>\n",
       "  </thead>\n",
       "  <tbody>\n",
       "    <tr>\n",
       "      <th>2987</th>\n",
       "      <td>98419</td>\n",
       "      <td>True</td>\n",
       "      <td>phone</td>\n",
       "      <td>1585464135</td>\n",
       "    </tr>\n",
       "    <tr>\n",
       "      <th>3453</th>\n",
       "      <td>47454</td>\n",
       "      <td>True</td>\n",
       "      <td>phone</td>\n",
       "      <td>1585436950</td>\n",
       "    </tr>\n",
       "    <tr>\n",
       "      <th>1830</th>\n",
       "      <td>53390</td>\n",
       "      <td>True</td>\n",
       "      <td>phone</td>\n",
       "      <td>1585425103</td>\n",
       "    </tr>\n",
       "    <tr>\n",
       "      <th>2992</th>\n",
       "      <td>60445</td>\n",
       "      <td>True</td>\n",
       "      <td>computer</td>\n",
       "      <td>1585473454</td>\n",
       "    </tr>\n",
       "    <tr>\n",
       "      <th>1766</th>\n",
       "      <td>68688</td>\n",
       "      <td>True</td>\n",
       "      <td>phone</td>\n",
       "      <td>1585478522</td>\n",
       "    </tr>\n",
       "    <tr>\n",
       "      <th>804</th>\n",
       "      <td>99383</td>\n",
       "      <td>True</td>\n",
       "      <td>phone</td>\n",
       "      <td>1585411350</td>\n",
       "    </tr>\n",
       "  </tbody>\n",
       "</table>\n",
       "</div>"
      ],
      "text/plain": [
       "      client  success  platform        time\n",
       "2987   98419     True     phone  1585464135\n",
       "3453   47454     True     phone  1585436950\n",
       "1830   53390     True     phone  1585425103\n",
       "2992   60445     True  computer  1585473454\n",
       "1766   68688     True     phone  1585478522\n",
       "804    99383     True     phone  1585411350"
      ]
     },
     "execution_count": 18,
     "metadata": {},
     "output_type": "execute_result"
    }
   ],
   "source": [
    "logs.sample(6)"
   ]
  },
  {
   "cell_type": "code",
   "execution_count": 28,
   "id": "5a44b74d-d573-482e-811d-f39161a1916d",
   "metadata": {},
   "outputs": [
    {
     "data": {
      "text/html": [
       "<div>\n",
       "<style scoped>\n",
       "    .dataframe tbody tr th:only-of-type {\n",
       "        vertical-align: middle;\n",
       "    }\n",
       "\n",
       "    .dataframe tbody tr th {\n",
       "        vertical-align: top;\n",
       "    }\n",
       "\n",
       "    .dataframe thead th {\n",
       "        text-align: right;\n",
       "    }\n",
       "</style>\n",
       "<table border=\"1\" class=\"dataframe\">\n",
       "  <thead>\n",
       "    <tr style=\"text-align: right;\">\n",
       "      <th></th>\n",
       "      <th>client</th>\n",
       "      <th>success</th>\n",
       "      <th>platform</th>\n",
       "      <th>time</th>\n",
       "      <th>premium</th>\n",
       "      <th>age</th>\n",
       "    </tr>\n",
       "  </thead>\n",
       "  <tbody>\n",
       "    <tr>\n",
       "      <th>0</th>\n",
       "      <td>61468</td>\n",
       "      <td>True</td>\n",
       "      <td>phone</td>\n",
       "      <td>1585425658</td>\n",
       "      <td>False</td>\n",
       "      <td>25</td>\n",
       "    </tr>\n",
       "    <tr>\n",
       "      <th>1</th>\n",
       "      <td>61468</td>\n",
       "      <td>True</td>\n",
       "      <td>computer</td>\n",
       "      <td>1585460504</td>\n",
       "      <td>False</td>\n",
       "      <td>25</td>\n",
       "    </tr>\n",
       "    <tr>\n",
       "      <th>2</th>\n",
       "      <td>61468</td>\n",
       "      <td>True</td>\n",
       "      <td>computer</td>\n",
       "      <td>1585430291</td>\n",
       "      <td>False</td>\n",
       "      <td>25</td>\n",
       "    </tr>\n",
       "    <tr>\n",
       "      <th>3</th>\n",
       "      <td>61468</td>\n",
       "      <td>True</td>\n",
       "      <td>computer</td>\n",
       "      <td>1585444317</td>\n",
       "      <td>False</td>\n",
       "      <td>25</td>\n",
       "    </tr>\n",
       "    <tr>\n",
       "      <th>4</th>\n",
       "      <td>61468</td>\n",
       "      <td>True</td>\n",
       "      <td>phone</td>\n",
       "      <td>1585441266</td>\n",
       "      <td>False</td>\n",
       "      <td>25</td>\n",
       "    </tr>\n",
       "    <tr>\n",
       "      <th>...</th>\n",
       "      <td>...</td>\n",
       "      <td>...</td>\n",
       "      <td>...</td>\n",
       "      <td>...</td>\n",
       "      <td>...</td>\n",
       "      <td>...</td>\n",
       "    </tr>\n",
       "    <tr>\n",
       "      <th>3434</th>\n",
       "      <td>62438</td>\n",
       "      <td>False</td>\n",
       "      <td>phone</td>\n",
       "      <td>1585479041</td>\n",
       "      <td>False</td>\n",
       "      <td>36</td>\n",
       "    </tr>\n",
       "    <tr>\n",
       "      <th>3435</th>\n",
       "      <td>95152</td>\n",
       "      <td>True</td>\n",
       "      <td>computer</td>\n",
       "      <td>1585420263</td>\n",
       "      <td>False</td>\n",
       "      <td>67</td>\n",
       "    </tr>\n",
       "    <tr>\n",
       "      <th>3436</th>\n",
       "      <td>64496</td>\n",
       "      <td>False</td>\n",
       "      <td>computer</td>\n",
       "      <td>1585459072</td>\n",
       "      <td>False</td>\n",
       "      <td>66</td>\n",
       "    </tr>\n",
       "    <tr>\n",
       "      <th>3437</th>\n",
       "      <td>8967</td>\n",
       "      <td>True</td>\n",
       "      <td>phone</td>\n",
       "      <td>1585465121</td>\n",
       "      <td>False</td>\n",
       "      <td>33</td>\n",
       "    </tr>\n",
       "    <tr>\n",
       "      <th>3438</th>\n",
       "      <td>40921</td>\n",
       "      <td>True</td>\n",
       "      <td>phone</td>\n",
       "      <td>1585437692</td>\n",
       "      <td>False</td>\n",
       "      <td>45</td>\n",
       "    </tr>\n",
       "  </tbody>\n",
       "</table>\n",
       "<p>3439 rows × 6 columns</p>\n",
       "</div>"
      ],
      "text/plain": [
       "      client  success  platform        time  premium  age\n",
       "0      61468     True     phone  1585425658    False   25\n",
       "1      61468     True  computer  1585460504    False   25\n",
       "2      61468     True  computer  1585430291    False   25\n",
       "3      61468     True  computer  1585444317    False   25\n",
       "4      61468     True     phone  1585441266    False   25\n",
       "...      ...      ...       ...         ...      ...  ...\n",
       "3434   62438    False     phone  1585479041    False   36\n",
       "3435   95152     True  computer  1585420263    False   67\n",
       "3436   64496    False  computer  1585459072    False   66\n",
       "3437    8967     True     phone  1585465121    False   33\n",
       "3438   40921     True     phone  1585437692    False   45\n",
       "\n",
       "[3439 rows x 6 columns]"
      ]
     },
     "execution_count": 28,
     "metadata": {},
     "output_type": "execute_result"
    }
   ],
   "source": [
    "premium_logs = logs.merge(user_data, on = 'client')\n",
    "premium_logs"
   ]
  },
  {
   "cell_type": "code",
   "execution_count": 30,
   "id": "ba00312f-d813-42f0-bd91-fe31f3274c5e",
   "metadata": {},
   "outputs": [
    {
     "data": {
      "text/plain": [
       "'phone'"
      ]
     },
     "execution_count": 30,
     "metadata": {},
     "output_type": "execute_result"
    }
   ],
   "source": [
    "premium_logs \\\n",
    "    .loc[premium_logs.premium == True] \\\n",
    "    .platform.value_counts() \\\n",
    "    .idxmax()"
   ]
  },
  {
   "cell_type": "markdown",
   "id": "26810132-2b09-497e-b440-e182416d5ca0",
   "metadata": {},
   "source": [
    "**Ответ: Phone.**\n",
    "\n",
    "---"
   ]
  },
  {
   "cell_type": "markdown",
   "id": "db51077f-3270-4c20-9969-19a41354d5bf",
   "metadata": {},
   "source": [
    "**Визуализируйте распределение возраста клиентов в зависимости от типа клиента (премиум или нет), используя библиотеку seaborn с параметрами цвета по умолчанию. Какой график получится в результате?**\n",
    "\n"
   ]
  },
  {
   "cell_type": "code",
   "execution_count": 32,
   "id": "a642494e-a3f6-4c17-94fc-9e87da142f73",
   "metadata": {},
   "outputs": [],
   "source": [
    "import seaborn as sns"
   ]
  },
  {
   "cell_type": "code",
   "execution_count": 33,
   "id": "3daa5f5a-1ae5-4958-976d-fb7e8fbc613e",
   "metadata": {},
   "outputs": [
    {
     "data": {
      "image/png": "[encoded data removed]",
      "text/plain": [
       "<Figure size 421.25x360 with 1 Axes>"
      ]
     },
     "metadata": {
      "needs_background": "light"
     },
     "output_type": "display_data"
    }
   ],
   "source": [
    "sns.displot(data=premium_logs, x='age', \n",
    "            hue='premium', \n",
    "            kde=True, \n",
    "            kind='hist', \n",
    "            stat='density', \n",
    "            common_norm=False, \n",
    "            bins=14)\n",
    "sns.despine()"
   ]
  },
  {
   "cell_type": "markdown",
   "id": "c2408fec-b4a6-483d-90da-5d6592cffa22",
   "metadata": {},
   "source": [
    "---\n",
    "**Постройте график распределения числа успешных операций:**\n",
    "\n",
    "$x$ – число успешных операций\n",
    "\n",
    "$y$ – число клиентов, совершивших столько успешных операций"
   ]
  },
  {
   "cell_type": "code",
   "execution_count": 36,
   "id": "73e80ef2-7c5e-48fc-9c5e-2e273e99bb2a",
   "metadata": {},
   "outputs": [
    {
     "data": {
      "text/plain": [
       "28719    41\n",
       "52870    41\n",
       "61468    41\n",
       "61473    41\n",
       "12179    41\n",
       "         ..\n",
       "70028     1\n",
       "37123     1\n",
       "73522     1\n",
       "38359     1\n",
       "40921     1\n",
       "Name: successes, Length: 2845, dtype: int64"
      ]
     },
     "execution_count": 36,
     "metadata": {},
     "output_type": "execute_result"
    }
   ],
   "source": [
    "success_count = logs.loc[logs.success == True].client.value_counts()\n",
    "success_count = success_count.rename('successes')\n",
    "success_count"
   ]
  },
  {
   "cell_type": "code",
   "execution_count": 37,
   "id": "46d9a9e5-5ade-4cad-9d69-2856cf29c80c",
   "metadata": {},
   "outputs": [
    {
     "data": {
      "image/png": "[encoded data removed]",
      "text/plain": [
       "<Figure size 432x288 with 1 Axes>"
      ]
     },
     "metadata": {
      "needs_background": "light"
     },
     "output_type": "display_data"
    }
   ],
   "source": [
    "sns.countplot(x=success_counts)\n",
    "sns.despine()"
   ]
  },
  {
   "cell_type": "markdown",
   "id": "d593d9c9-b748-4a5e-8d5b-339f6084a496",
   "metadata": {},
   "source": [
    "---\n",
    "**Визуализируйте число успешных операций, сделанных на платформе computer, в зависимости от возраста, используя sns.countplot. По оси x – возраст, y – число успешных операций. Если размер графика получается небольшим, можно добавить plt.figure(figsize=(12, 8)) в начало соответствующей ячейки.**"
   ]
  },
  {
   "cell_type": "code",
   "execution_count": 38,
   "id": "433e48d4-04bc-49cc-844f-81e2828bd6a0",
   "metadata": {},
   "outputs": [
    {
     "data": {
      "image/png": "[encoded data removed]",
      "text/plain": [
       "<Figure size 864x576 with 1 Axes>"
      ]
     },
     "metadata": {
      "needs_background": "light"
     },
     "output_type": "display_data"
    }
   ],
   "source": [
    "import matplotlib.pyplot as plt\n",
    "plt.figure(figsize=(12,8))\n",
    "sns.countplot(data=premium_logs.loc[(premium_logs.platform == 'computer')\n",
    "                                   & (premium_logs.success == True)], \n",
    "             x='age')\n",
    "sns.despine()"
   ]
  },
  {
   "cell_type": "markdown",
   "id": "8b056b8c-1fe9-4e43-9edd-bea908235093",
   "metadata": {},
   "source": [
    "**Ответ: 28**"
   ]
  }
 ],
 "metadata": {
  "kernelspec": {
   "display_name": "Python 3 (ipykernel)",
   "language": "python",
   "name": "python3"
  },
  "language_info": {
   "codemirror_mode": {
    "name": "ipython",
    "version": 3
   },
   "file_extension": ".py",
   "mimetype": "text/x-python",
   "name": "python",
   "nbconvert_exporter": "python",
   "pygments_lexer": "ipython3",
   "version": "3.9.12"
  }
 },
 "nbformat": 4,
 "nbformat_minor": 5
}
